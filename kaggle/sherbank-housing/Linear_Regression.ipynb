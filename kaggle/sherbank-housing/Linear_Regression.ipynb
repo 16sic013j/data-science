{
 "cells": [
  {
   "cell_type": "code",
   "execution_count": 50,
   "metadata": {
    "ExecuteTime": {
     "end_time": "2017-05-20T16:17:17.814305Z",
     "start_time": "2017-05-20T16:17:17.769184Z"
    },
    "collapsed": true
   },
   "outputs": [],
   "source": [
    "import numpy as np # linear algebra\n",
    "import pandas as pd # data processing, CSV file I/O (e.g. pd.read_csv)\n",
    "import matplotlib as mplt\n",
    "import matplotlib.pyplot as plt\n",
    "from sklearn.metrics import roc_auc_score\n",
    "from sklearn.model_selection import train_test_split\n",
    "from sklearn import linear_model\n",
    "from sklearn.metrics import mean_squared_error\n",
    "from scipy import stats\n",
    "\n",
    "from sklearn.linear_model import LogisticRegression"
   ]
  },
  {
   "cell_type": "code",
   "execution_count": 51,
   "metadata": {
    "ExecuteTime": {
     "end_time": "2017-05-20T16:17:22.136756Z",
     "start_time": "2017-05-20T16:17:18.209355Z"
    },
    "collapsed": false
   },
   "outputs": [
    {
     "data": {
      "text/plain": [
       "(30471, 292)"
      ]
     },
     "execution_count": 51,
     "metadata": {},
     "output_type": "execute_result"
    }
   ],
   "source": [
    "df = pd.read_csv(\"../data/sherbank-housing/train.csv\")\n",
    "df.shape"
   ]
  },
  {
   "cell_type": "code",
   "execution_count": 52,
   "metadata": {
    "ExecuteTime": {
     "end_time": "2017-05-20T16:17:22.438958Z",
     "start_time": "2017-05-20T16:17:22.424920Z"
    },
    "collapsed": true
   },
   "outputs": [],
   "source": [
    "cols = [\"id\",\"life_sq\",\"full_sq\",\"build_year\",\"num_room\",\"timestamp\",\"price_doc\"]\n",
    "nearby_features = [\"office\"]\n",
    "prediction_cols = [\"life_sq\",\"build_year\",\"num_room\",\"transaction_year\",\"log_life_sq\"] + nearby_features\n"
   ]
  },
  {
   "cell_type": "markdown",
   "metadata": {},
   "source": [
    "## Improving Features\n"
   ]
  },
  {
   "cell_type": "markdown",
   "metadata": {},
   "source": [
    "### Drop Bad Rows From Training Set"
   ]
  },
  {
   "cell_type": "code",
   "execution_count": 53,
   "metadata": {
    "ExecuteTime": {
     "end_time": "2017-05-20T16:17:22.790899Z",
     "start_time": "2017-05-20T16:17:22.694638Z"
    },
    "collapsed": false
   },
   "outputs": [
    {
     "data": {
      "text/html": [
       "<div>\n",
       "<table border=\"1\" class=\"dataframe\">\n",
       "  <thead>\n",
       "    <tr style=\"text-align: right;\">\n",
       "      <th></th>\n",
       "      <th>id</th>\n",
       "      <th>timestamp</th>\n",
       "      <th>full_sq</th>\n",
       "      <th>life_sq</th>\n",
       "      <th>floor</th>\n",
       "      <th>max_floor</th>\n",
       "      <th>material</th>\n",
       "      <th>build_year</th>\n",
       "      <th>num_room</th>\n",
       "      <th>kitch_sq</th>\n",
       "      <th>...</th>\n",
       "      <th>cafe_count_5000_price_2500</th>\n",
       "      <th>cafe_count_5000_price_4000</th>\n",
       "      <th>cafe_count_5000_price_high</th>\n",
       "      <th>big_church_count_5000</th>\n",
       "      <th>church_count_5000</th>\n",
       "      <th>mosque_count_5000</th>\n",
       "      <th>leisure_count_5000</th>\n",
       "      <th>sport_count_5000</th>\n",
       "      <th>market_count_5000</th>\n",
       "      <th>price_doc</th>\n",
       "    </tr>\n",
       "  </thead>\n",
       "  <tbody>\n",
       "    <tr>\n",
       "      <th>6112</th>\n",
       "      <td>6115</td>\n",
       "      <td>2013-02-22</td>\n",
       "      <td>6</td>\n",
       "      <td>NaN</td>\n",
       "      <td>3.0</td>\n",
       "      <td>NaN</td>\n",
       "      <td>NaN</td>\n",
       "      <td>NaN</td>\n",
       "      <td>NaN</td>\n",
       "      <td>NaN</td>\n",
       "      <td>...</td>\n",
       "      <td>0</td>\n",
       "      <td>0</td>\n",
       "      <td>0</td>\n",
       "      <td>1</td>\n",
       "      <td>7</td>\n",
       "      <td>1</td>\n",
       "      <td>0</td>\n",
       "      <td>12</td>\n",
       "      <td>1</td>\n",
       "      <td>5177040</td>\n",
       "    </tr>\n",
       "  </tbody>\n",
       "</table>\n",
       "<p>1 rows × 292 columns</p>\n",
       "</div>"
      ],
      "text/plain": [
       "        id   timestamp  full_sq  life_sq  floor  max_floor  material  \\\n",
       "6112  6115  2013-02-22        6      NaN    3.0        NaN       NaN   \n",
       "\n",
       "      build_year  num_room  kitch_sq    ...      cafe_count_5000_price_2500  \\\n",
       "6112         NaN       NaN       NaN    ...                               0   \n",
       "\n",
       "     cafe_count_5000_price_4000 cafe_count_5000_price_high  \\\n",
       "6112                          0                          0   \n",
       "\n",
       "      big_church_count_5000  church_count_5000  mosque_count_5000  \\\n",
       "6112                      1                  7                  1   \n",
       "\n",
       "      leisure_count_5000  sport_count_5000  market_count_5000  price_doc  \n",
       "6112                   0                12                  1    5177040  \n",
       "\n",
       "[1 rows x 292 columns]"
      ]
     },
     "execution_count": 53,
     "metadata": {},
     "output_type": "execute_result"
    }
   ],
   "source": [
    "#df[(pd.isnull(df[\"life_sq\"]) | df[\"life_sq\"]==0) & (pd.isnull(df[\"full_sq\"]) | df[\"full_sq\"]==0)].head(100)\n",
    "df[df[\"id\"]==17935]\n",
    "df[df[\"id\"]==6115]"
   ]
  },
  {
   "cell_type": "code",
   "execution_count": 54,
   "metadata": {
    "ExecuteTime": {
     "end_time": "2017-05-20T16:17:23.182889Z",
     "start_time": "2017-05-20T16:17:23.054721Z"
    },
    "collapsed": false
   },
   "outputs": [],
   "source": [
    "df.drop(df.index[[6115,17932]], inplace=True)\n",
    "# df.dropna(thresh=5)\n",
    "# df[df[\"life_sq\"]==0].head()\n",
    "# df[df[\"life_sq\"]==0].head()"
   ]
  },
  {
   "cell_type": "markdown",
   "metadata": {},
   "source": [
    "\n",
    "### Process missing Values - Impute\n",
    "- [Pandas link](http://pandas.pydata.org/pandas-docs/stable/missing_data.html)\n",
    "- [Sklearn Imputer with pipeline](http://scikit-learn.org/stable/auto_examples/missing_values.html)\n",
    "- [Checking nans SO](http://stackoverflow.com/questions/34779961/scikit-learn-error-in-fitting-model-input-contains-nan-infinity-or-a-value)\n",
    "- [Replacing missing values fillna pandas](http://stackoverflow.com/questions/29177498/python-pandas-replace-nan-in-one-column-with-value-from-corresponding-row-of-sec)"
   ]
  },
  {
   "cell_type": "code",
   "execution_count": 55,
   "metadata": {
    "ExecuteTime": {
     "end_time": "2017-05-20T16:17:31.233134Z",
     "start_time": "2017-05-20T16:17:23.466601Z"
    },
    "collapsed": false
   },
   "outputs": [],
   "source": [
    "def lowValueReplacer(df_features):\n",
    "    df_features.loc[df_features.life_sq <= 10, 'life_sq'] = df_features.num_room * 10\n",
    "    df_features.loc[df_features.life_sq <= 10, 'life_sq'] = df_features.full_sq.shift(0)\n",
    "    return df_features\n",
    "    \n",
    "def zeroReplacerWithNan(df_features):\n",
    "    df_features[\"life_sq\"].replace(0,np.nan,inplace=True)\n",
    "    return df_features\n",
    "\n",
    "def imputer(df_features):\n",
    "    df_features = zeroReplacerWithNan(df_features)\n",
    "    df_features[\"life_sq\"].fillna(df_features[\"full_sq\"]-15,inplace=True)\n",
    "    df_features = lowValueReplacer(df_features)\n",
    "    df_features[\"num_room\"].fillna(df_features[\"life_sq\"]/14,inplace=True)\n",
    "    df_features = df_features.fillna(df_features.median())\n",
    "    return df_features\n",
    "\n",
    "df = imputer(df)\n",
    "\n",
    "\n",
    "\n",
    "\n",
    "\n",
    "\n",
    "# df_features.mean()"
   ]
  },
  {
   "cell_type": "markdown",
   "metadata": {},
   "source": [
    "### Outlier Removal\n",
    "\n",
    "- [Quantile based removal - SO](http://stackoverflow.com/questions/35827863/remove-outliers-in-pandas-dataframe-using-percentiles)\n",
    "- [Remove all rows based on STD](http://stackoverflow.com/questions/23199796/detect-and-exclude-outliers-in-pandas-dataframe)"
   ]
  },
  {
   "cell_type": "code",
   "execution_count": 56,
   "metadata": {
    "ExecuteTime": {
     "end_time": "2017-05-20T16:17:31.740272Z",
     "start_time": "2017-05-20T16:17:31.474528Z"
    },
    "collapsed": true
   },
   "outputs": [],
   "source": [
    "def oulierRemover(df_features):\n",
    "    df_features[np.abs(df_features.life_sq-df_features.life_sq.mean())<=700]\n",
    "    return df_features\n",
    "\n",
    "## Below outlier remover only works on training set as it removes extreme values of the predicted variable\n",
    "def oulierRemover_train(df_features):\n",
    "    df_features[df_features.price_doc-df_features.price_doc.mean()<=(6*df_features.price_doc.std())]\n",
    "    return df_features\n",
    "\n",
    "df = oulierRemover(df)\n",
    "df = oulierRemover_train(df)\n",
    "# df_features[np.abs(df_features.life_sq-df_features.life_sq.mean())<=(6*df_features.life_sq.std())]\n",
    "\n",
    "# df_features[np.abs(df_features.price_doc-df_features.price_doc.mean())<=(5*df_features.price_doc.std())]\n",
    "\n",
    "# Removing all columns with outliers using z scores\n",
    "# df[(np.abs(stats.zscore(df)) < 3).all(axis=1)]\n",
    "\n"
   ]
  },
  {
   "cell_type": "markdown",
   "metadata": {},
   "source": [
    "### Adding new Features"
   ]
  },
  {
   "cell_type": "code",
   "execution_count": 57,
   "metadata": {
    "ExecuteTime": {
     "end_time": "2017-05-20T16:17:33.117677Z",
     "start_time": "2017-05-20T16:17:31.989442Z"
    },
    "collapsed": false
   },
   "outputs": [],
   "source": [
    "def featureAdder(df_features):\n",
    "    df_features['date_column'] = pd.to_datetime(df_features['timestamp'])\n",
    "    df_features[\"transaction_year\"] = df_features['date_column'].map(lambda x: x.year)\n",
    "    df_features[\"log_life_sq\"] = np.log(df_features[\"life_sq\"])\n",
    "    return df_features\n",
    "\n",
    "df = featureAdder(df)"
   ]
  },
  {
   "cell_type": "markdown",
   "metadata": {},
   "source": [
    "### Feature Transformations\n",
    "- for polynomial regression see [Polynomial Regression SO](http://stackoverflow.com/questions/32660231/how-to-fit-a-polynomial-curve-to-data-using-scikit-learn)"
   ]
  },
  {
   "cell_type": "code",
   "execution_count": 58,
   "metadata": {
    "ExecuteTime": {
     "end_time": "2017-05-20T16:17:34.235058Z",
     "start_time": "2017-05-20T16:17:33.418597Z"
    },
    "collapsed": false
   },
   "outputs": [],
   "source": [
    "# df_features[\"life_sq\"] = np.log(df_features[\"life_sq\"])\n",
    "# predicted_col_name = price_doc here\n",
    "\n",
    "def gen_log_columns(f_name,df):\n",
    "    colnames = df.columns[pd.Series(df.columns).str.startswith(f_name)]\n",
    "    cnames = colnames.values.tolist()\n",
    "    #cnames=[]\n",
    "    for colname in colnames:\n",
    "        log_col = \"%s_log\"%colname\n",
    "        df[log_col] = np.log(df[colname]+1)\n",
    "        square_root_col = \"%s_square_root\"%colname\n",
    "        df[square_root_col] = df[colname]**0.5\n",
    "        square_col = \"%s_square\"%colname\n",
    "        df[square_col] = df[colname]**2\n",
    "        cube_col = \"%s_cube\"%colname\n",
    "        df[cube_col] = df[colname]**3\n",
    "        cnames += [log_col,square_col,cube_col,square_root_col]\n",
    "    return cnames\n",
    "\n",
    "def fit_nearby_feature(f_name,predicted_col_name,df):\n",
    "    cnames = gen_log_columns(f_name,df)\n",
    "    regr = linear_model.LinearRegression(copy_X=True,n_jobs=2,normalize=True)\n",
    "    X = df[cnames].values\n",
    "    y = df[predicted_col_name].values\n",
    "    regr.fit(X, y)\n",
    "    return {\"model\":regr,\"cols\":cnames}\n",
    "\n",
    "def add_nearby_feature(f_name,df,model,cnames):\n",
    "    X = df[cnames].values\n",
    "    df[f_name] = model.predict(X)\n",
    "    df[f_name] = (df[f_name]-df[f_name].mean())/df[f_name].std()\n",
    "\n",
    "nearby_models = {}\n",
    "\n",
    "def train_transform(df):\n",
    "    for f_name in nearby_features:\n",
    "        f = fit_nearby_feature(f_name,\"price_doc\",df)\n",
    "        nearby_models[f_name]= f\n",
    "        add_nearby_feature(f_name,df,f[\"model\"],f[\"cols\"])\n",
    "        return df\n",
    "        \n",
    "df = train_transform(df)\n",
    "    \n",
    "def test_transform(df_test):\n",
    "    for f_name in nearby_features:\n",
    "        cnames = gen_log_columns(f_name,df_test)\n",
    "        add_nearby_feature(f_name,df_test,nearby_models[f_name][\"model\"],nearby_models[f_name][\"cols\"])\n",
    "    return df_test"
   ]
  },
  {
   "cell_type": "code",
   "execution_count": 59,
   "metadata": {
    "ExecuteTime": {
     "end_time": "2017-05-20T16:17:34.654014Z",
     "start_time": "2017-05-20T16:17:34.530308Z"
    },
    "collapsed": false
   },
   "outputs": [
    {
     "data": {
      "text/html": [
       "<div>\n",
       "<table border=\"1\" class=\"dataframe\">\n",
       "  <thead>\n",
       "    <tr style=\"text-align: right;\">\n",
       "      <th></th>\n",
       "      <th>life_sq</th>\n",
       "      <th>build_year</th>\n",
       "      <th>num_room</th>\n",
       "      <th>transaction_year</th>\n",
       "      <th>log_life_sq</th>\n",
       "      <th>office</th>\n",
       "      <th>price_doc</th>\n",
       "    </tr>\n",
       "  </thead>\n",
       "  <tbody>\n",
       "    <tr>\n",
       "      <th>0</th>\n",
       "      <td>27.0</td>\n",
       "      <td>1979.0</td>\n",
       "      <td>1.928571</td>\n",
       "      <td>2011</td>\n",
       "      <td>3.295837</td>\n",
       "      <td>-0.344406</td>\n",
       "      <td>5850000</td>\n",
       "    </tr>\n",
       "    <tr>\n",
       "      <th>1</th>\n",
       "      <td>19.0</td>\n",
       "      <td>1979.0</td>\n",
       "      <td>1.357143</td>\n",
       "      <td>2011</td>\n",
       "      <td>2.944439</td>\n",
       "      <td>0.578505</td>\n",
       "      <td>6000000</td>\n",
       "    </tr>\n",
       "    <tr>\n",
       "      <th>2</th>\n",
       "      <td>29.0</td>\n",
       "      <td>1979.0</td>\n",
       "      <td>2.071429</td>\n",
       "      <td>2011</td>\n",
       "      <td>3.367296</td>\n",
       "      <td>0.082122</td>\n",
       "      <td>5700000</td>\n",
       "    </tr>\n",
       "    <tr>\n",
       "      <th>3</th>\n",
       "      <td>50.0</td>\n",
       "      <td>1979.0</td>\n",
       "      <td>3.571429</td>\n",
       "      <td>2011</td>\n",
       "      <td>3.912023</td>\n",
       "      <td>-0.379407</td>\n",
       "      <td>13100000</td>\n",
       "    </tr>\n",
       "    <tr>\n",
       "      <th>4</th>\n",
       "      <td>77.0</td>\n",
       "      <td>1979.0</td>\n",
       "      <td>5.500000</td>\n",
       "      <td>2011</td>\n",
       "      <td>4.343805</td>\n",
       "      <td>3.505399</td>\n",
       "      <td>16331452</td>\n",
       "    </tr>\n",
       "  </tbody>\n",
       "</table>\n",
       "</div>"
      ],
      "text/plain": [
       "   life_sq  build_year  num_room  transaction_year  log_life_sq    office  \\\n",
       "0     27.0      1979.0  1.928571              2011     3.295837 -0.344406   \n",
       "1     19.0      1979.0  1.357143              2011     2.944439  0.578505   \n",
       "2     29.0      1979.0  2.071429              2011     3.367296  0.082122   \n",
       "3     50.0      1979.0  3.571429              2011     3.912023 -0.379407   \n",
       "4     77.0      1979.0  5.500000              2011     4.343805  3.505399   \n",
       "\n",
       "   price_doc  \n",
       "0    5850000  \n",
       "1    6000000  \n",
       "2    5700000  \n",
       "3   13100000  \n",
       "4   16331452  "
      ]
     },
     "execution_count": 59,
     "metadata": {},
     "output_type": "execute_result"
    }
   ],
   "source": [
    "df[prediction_cols+['price_doc']].head()"
   ]
  },
  {
   "cell_type": "code",
   "execution_count": 60,
   "metadata": {
    "ExecuteTime": {
     "end_time": "2017-05-20T16:17:36.623572Z",
     "start_time": "2017-05-20T16:17:35.023872Z"
    },
    "collapsed": false
   },
   "outputs": [
    {
     "data": {
      "image/png": "[encoded data removed]",
      "text/plain": [
       "<matplotlib.figure.Figure at 0x15f3d8287f0>"
      ]
     },
     "metadata": {},
     "output_type": "display_data"
    }
   ],
   "source": [
    "df.plot.scatter(x=\"office\",y=\"price_doc\")\n",
    "plt.show();"
   ]
  },
  {
   "cell_type": "markdown",
   "metadata": {},
   "source": [
    "## Model Build and Test\n",
    "\n",
    "### Split train test"
   ]
  },
  {
   "cell_type": "code",
   "execution_count": 61,
   "metadata": {
    "ExecuteTime": {
     "end_time": "2017-05-20T16:17:37.044106Z",
     "start_time": "2017-05-20T16:17:36.984952Z"
    },
    "collapsed": false
   },
   "outputs": [
    {
     "data": {
      "text/plain": [
       "False"
      ]
     },
     "execution_count": 61,
     "metadata": {},
     "output_type": "execute_result"
    }
   ],
   "source": [
    "X = df[prediction_cols].values\n",
    "y = df[\"price_doc\"].values\n",
    "\n",
    "\n",
    "X_train, X_test, y_train, y_test = train_test_split(X, y, test_size=0.1)\n",
    "\n",
    "np.isnan(X).any()"
   ]
  },
  {
   "cell_type": "code",
   "execution_count": 62,
   "metadata": {
    "ExecuteTime": {
     "end_time": "2017-05-20T16:17:37.406069Z",
     "start_time": "2017-05-20T16:17:37.365964Z"
    },
    "collapsed": false
   },
   "outputs": [
    {
     "data": {
      "text/html": [
       "<div>\n",
       "<table border=\"1\" class=\"dataframe\">\n",
       "  <thead>\n",
       "    <tr style=\"text-align: right;\">\n",
       "      <th></th>\n",
       "      <th>id</th>\n",
       "      <th>timestamp</th>\n",
       "      <th>full_sq</th>\n",
       "      <th>life_sq</th>\n",
       "      <th>floor</th>\n",
       "      <th>max_floor</th>\n",
       "      <th>material</th>\n",
       "      <th>build_year</th>\n",
       "      <th>num_room</th>\n",
       "      <th>kitch_sq</th>\n",
       "      <th>...</th>\n",
       "      <th>office_sqm_3000_cube</th>\n",
       "      <th>office_count_5000_log</th>\n",
       "      <th>office_count_5000_square_root</th>\n",
       "      <th>office_count_5000_square</th>\n",
       "      <th>office_count_5000_cube</th>\n",
       "      <th>office_sqm_5000_log</th>\n",
       "      <th>office_sqm_5000_square_root</th>\n",
       "      <th>office_sqm_5000_square</th>\n",
       "      <th>office_sqm_5000_cube</th>\n",
       "      <th>office</th>\n",
       "    </tr>\n",
       "  </thead>\n",
       "  <tbody>\n",
       "  </tbody>\n",
       "</table>\n",
       "<p>0 rows × 352 columns</p>\n",
       "</div>"
      ],
      "text/plain": [
       "Empty DataFrame\n",
       "Columns: [id, timestamp, full_sq, life_sq, floor, max_floor, material, build_year, num_room, kitch_sq, state, product_type, sub_area, area_m, raion_popul, green_zone_part, indust_part, children_preschool, preschool_quota, preschool_education_centers_raion, children_school, school_quota, school_education_centers_raion, school_education_centers_top_20_raion, hospital_beds_raion, healthcare_centers_raion, university_top_20_raion, sport_objects_raion, additional_education_raion, culture_objects_top_25, culture_objects_top_25_raion, shopping_centers_raion, office_raion, thermal_power_plant_raion, incineration_raion, oil_chemistry_raion, radiation_raion, railroad_terminal_raion, big_market_raion, nuclear_reactor_raion, detention_facility_raion, full_all, male_f, female_f, young_all, young_male, young_female, work_all, work_male, work_female, ekder_all, ekder_male, ekder_female, 0_6_all, 0_6_male, 0_6_female, 7_14_all, 7_14_male, 7_14_female, 0_17_all, 0_17_male, 0_17_female, 16_29_all, 16_29_male, 16_29_female, 0_13_all, 0_13_male, 0_13_female, raion_build_count_with_material_info, build_count_block, build_count_wood, build_count_frame, build_count_brick, build_count_monolith, build_count_panel, build_count_foam, build_count_slag, build_count_mix, raion_build_count_with_builddate_info, build_count_before_1920, build_count_1921-1945, build_count_1946-1970, build_count_1971-1995, build_count_after_1995, ID_metro, metro_min_avto, metro_km_avto, metro_min_walk, metro_km_walk, kindergarten_km, school_km, park_km, green_zone_km, industrial_km, water_treatment_km, cemetery_km, incineration_km, railroad_station_walk_km, railroad_station_walk_min, ID_railroad_station_walk, ...]\n",
       "Index: []\n",
       "\n",
       "[0 rows x 352 columns]"
      ]
     },
     "execution_count": 62,
     "metadata": {},
     "output_type": "execute_result"
    }
   ],
   "source": [
    "df[np.isnan(df[\"log_life_sq\"])].head()"
   ]
  },
  {
   "cell_type": "markdown",
   "metadata": {},
   "source": [
    "### Build model and generate predictions on split test "
   ]
  },
  {
   "cell_type": "code",
   "execution_count": 63,
   "metadata": {
    "ExecuteTime": {
     "end_time": "2017-05-20T16:17:38.228274Z",
     "start_time": "2017-05-20T16:17:38.195183Z"
    },
    "collapsed": false
   },
   "outputs": [],
   "source": [
    "\n",
    "\n",
    "# Create linear regression object\n",
    "regr = linear_model.LinearRegression(copy_X=True,n_jobs=2,normalize=True)\n",
    "\n",
    "# Train the model using the training sets\n",
    "regr.fit(X_train, y_train)\n",
    "\n",
    "def predict(X):\n",
    "    y_pred = regr.predict(X)\n",
    "    y_pred[y_pred < 10] = np.mean(y_pred)\n",
    "    return y_pred\n",
    "\n",
    "y_pred = predict(X_test)\n",
    "\n"
   ]
  },
  {
   "cell_type": "code",
   "execution_count": 64,
   "metadata": {
    "ExecuteTime": {
     "end_time": "2017-05-20T16:17:40.546361Z",
     "start_time": "2017-05-20T16:17:40.530317Z"
    },
    "collapsed": false
   },
   "outputs": [
    {
     "data": {
      "text/plain": [
       "array([ 15.86963429,  16.18107045,  16.05622025, ...,  15.67180855,\n",
       "        14.78569688,  15.52894806])"
      ]
     },
     "execution_count": 64,
     "metadata": {},
     "output_type": "execute_result"
    }
   ],
   "source": [
    "eps = 1e-7\n",
    "np.isnan(y_test).any()\n",
    "np.any(np.absolute(y_pred) < eps)\n",
    "np.log(y_test)\n",
    "\n"
   ]
  },
  {
   "cell_type": "markdown",
   "metadata": {},
   "source": [
    "### Errors RMSE and RMSLE for train data"
   ]
  },
  {
   "cell_type": "code",
   "execution_count": 65,
   "metadata": {
    "ExecuteTime": {
     "end_time": "2017-05-20T16:17:41.845699Z",
     "start_time": "2017-05-20T16:17:41.829654Z"
    },
    "collapsed": false
   },
   "outputs": [
    {
     "name": "stdout",
     "output_type": "stream",
     "text": [
      "RMSLE: 0.309\n",
      "RMSE: 3439384.549\n"
     ]
    }
   ],
   "source": [
    "def findRMSLE(y_true,y_pred):\n",
    "    return mean_squared_error(np.log(y_true), np.log(y_pred))\n",
    "\n",
    "print('RMSLE: %.3f' % (findRMSLE(y_test, y_pred)))\n",
    "print(\"RMSE: %.3f\" % mean_squared_error(y_test, y_pred)**0.5)"
   ]
  },
  {
   "cell_type": "markdown",
   "metadata": {},
   "source": [
    "## Using Model on Test Set to generate prediction csv"
   ]
  },
  {
   "cell_type": "code",
   "execution_count": 66,
   "metadata": {
    "ExecuteTime": {
     "end_time": "2017-05-20T16:17:47.379270Z",
     "start_time": "2017-05-20T16:17:46.374762Z"
    },
    "collapsed": false
   },
   "outputs": [
    {
     "data": {
      "text/plain": [
       "(7662, 291)"
      ]
     },
     "execution_count": 66,
     "metadata": {},
     "output_type": "execute_result"
    }
   ],
   "source": [
    "df_test = pd.read_csv(\"../data/sherbank-housing/test.csv\")\n",
    "df_test.shape"
   ]
  },
  {
   "cell_type": "markdown",
   "metadata": {},
   "source": [
    "### Extracting features and applying same transformations that were done on training data"
   ]
  },
  {
   "cell_type": "code",
   "execution_count": 67,
   "metadata": {
    "ExecuteTime": {
     "end_time": "2017-05-20T16:17:52.437509Z",
     "start_time": "2017-05-20T16:17:50.148125Z"
    },
    "collapsed": false
   },
   "outputs": [],
   "source": [
    "df_test = imputer(df_test)\n",
    "df_test = oulierRemover(df_test)\n",
    "df_test = featureAdder(df_test)\n",
    "df_test = test_transform(df_test)"
   ]
  },
  {
   "cell_type": "code",
   "execution_count": 68,
   "metadata": {
    "ExecuteTime": {
     "end_time": "2017-05-20T16:17:53.043080Z",
     "start_time": "2017-05-20T16:17:52.975902Z"
    },
    "collapsed": false
   },
   "outputs": [
    {
     "data": {
      "text/html": [
       "<div>\n",
       "<table border=\"1\" class=\"dataframe\">\n",
       "  <thead>\n",
       "    <tr style=\"text-align: right;\">\n",
       "      <th></th>\n",
       "      <th>life_sq</th>\n",
       "      <th>build_year</th>\n",
       "      <th>num_room</th>\n",
       "      <th>transaction_year</th>\n",
       "      <th>log_life_sq</th>\n",
       "      <th>office</th>\n",
       "    </tr>\n",
       "  </thead>\n",
       "  <tbody>\n",
       "    <tr>\n",
       "      <th>0</th>\n",
       "      <td>20.7</td>\n",
       "      <td>1998.0</td>\n",
       "      <td>1</td>\n",
       "      <td>2015</td>\n",
       "      <td>3.030134</td>\n",
       "      <td>-0.721701</td>\n",
       "    </tr>\n",
       "    <tr>\n",
       "      <th>1</th>\n",
       "      <td>64.2</td>\n",
       "      <td>0.0</td>\n",
       "      <td>3</td>\n",
       "      <td>2015</td>\n",
       "      <td>4.162003</td>\n",
       "      <td>-0.558584</td>\n",
       "    </tr>\n",
       "    <tr>\n",
       "      <th>2</th>\n",
       "      <td>25.1</td>\n",
       "      <td>1960.0</td>\n",
       "      <td>2</td>\n",
       "      <td>2015</td>\n",
       "      <td>3.222868</td>\n",
       "      <td>-0.235220</td>\n",
       "    </tr>\n",
       "    <tr>\n",
       "      <th>3</th>\n",
       "      <td>36.0</td>\n",
       "      <td>2016.0</td>\n",
       "      <td>2</td>\n",
       "      <td>2015</td>\n",
       "      <td>3.583519</td>\n",
       "      <td>-0.994863</td>\n",
       "    </tr>\n",
       "    <tr>\n",
       "      <th>4</th>\n",
       "      <td>40.0</td>\n",
       "      <td>0.0</td>\n",
       "      <td>1</td>\n",
       "      <td>2015</td>\n",
       "      <td>3.688879</td>\n",
       "      <td>-0.698538</td>\n",
       "    </tr>\n",
       "  </tbody>\n",
       "</table>\n",
       "</div>"
      ],
      "text/plain": [
       "   life_sq  build_year  num_room  transaction_year  log_life_sq    office\n",
       "0     20.7      1998.0         1              2015     3.030134 -0.721701\n",
       "1     64.2         0.0         3              2015     4.162003 -0.558584\n",
       "2     25.1      1960.0         2              2015     3.222868 -0.235220\n",
       "3     36.0      2016.0         2              2015     3.583519 -0.994863\n",
       "4     40.0         0.0         1              2015     3.688879 -0.698538"
      ]
     },
     "execution_count": 68,
     "metadata": {},
     "output_type": "execute_result"
    }
   ],
   "source": [
    "df_test[prediction_cols].head()"
   ]
  },
  {
   "cell_type": "code",
   "execution_count": 69,
   "metadata": {
    "ExecuteTime": {
     "end_time": "2017-05-20T16:17:53.568210Z",
     "start_time": "2017-05-20T16:17:53.554178Z"
    },
    "collapsed": true
   },
   "outputs": [],
   "source": [
    "X_t = df_test[prediction_cols].values\n",
    "y_t = predict(X_t)"
   ]
  },
  {
   "cell_type": "markdown",
   "metadata": {},
   "source": [
    "### Generate Predictions"
   ]
  },
  {
   "cell_type": "code",
   "execution_count": 70,
   "metadata": {
    "ExecuteTime": {
     "end_time": "2017-05-20T16:17:57.411155Z",
     "start_time": "2017-05-20T16:17:57.393142Z"
    },
    "collapsed": false
   },
   "outputs": [
    {
     "name": "stdout",
     "output_type": "stream",
     "text": [
      "          price_doc\n",
      "30474  4.527438e+06\n",
      "30475  9.782210e+06\n",
      "30476  6.733284e+06\n",
      "30477  6.391772e+06\n",
      "30478  6.783539e+06\n",
      "(7662, 1)\n"
     ]
    }
   ],
   "source": [
    "ids =np.array(df_test[\"id\"]).astype(int)\n",
    "my_solution = pd.DataFrame(y_t, ids, columns = [\"price_doc\"])\n",
    "print(my_solution.shape)\n"
   ]
  },
  {
   "cell_type": "markdown",
   "metadata": {},
   "source": [
    "### Save to CSV"
   ]
  },
  {
   "cell_type": "code",
   "execution_count": 71,
   "metadata": {
    "ExecuteTime": {
     "end_time": "2017-05-20T16:18:05.911432Z",
     "start_time": "2017-05-20T16:18:05.750004Z"
    },
    "collapsed": true
   },
   "outputs": [],
   "source": [
    "my_solution.to_csv(\"../data/sherbank-housing/results/my_solution_one.csv\", index_label = [\"id\"])"
   ]
  },
  {
   "cell_type": "code",
   "execution_count": null,
   "metadata": {
    "collapsed": true
   },
   "outputs": [],
   "source": []
  }
 ],
 "metadata": {
  "hide_input": false,
  "kernelspec": {
   "display_name": "Python 3",
   "language": "python",
   "name": "python3"
  },
  "language_info": {
   "codemirror_mode": {
    "name": "ipython",
    "version": 3
   },
   "file_extension": ".py",
   "mimetype": "text/x-python",
   "name": "python",
   "nbconvert_exporter": "python",
   "pygments_lexer": "ipython3",
   "version": "3.6.0"
  },
  "toc": {
   "colors": {
    "hover_highlight": "#DAA520",
    "navigate_num": "#000000",
    "navigate_text": "#333333",
    "running_highlight": "#FF0000",
    "selected_highlight": "#FFD700",
    "sidebar_border": "#EEEEEE",
    "wrapper_background": "#FFFFFF"
   },
   "moveMenuLeft": true,
   "nav_menu": {
    "height": "288px",
    "width": "252px"
   },
   "navigate_menu": true,
   "number_sections": true,
   "sideBar": true,
   "threshold": "5",
   "toc_cell": false,
   "toc_section_display": "block",
   "toc_window_display": true,
   "widenNotebook": false
  },
  "varInspector": {
   "cols": {
    "lenName": 16,
    "lenType": 16,
    "lenVar": 40
   },
   "kernels_config": {
    "python": {
     "delete_cmd_postfix": "",
     "delete_cmd_prefix": "del ",
     "library": "var_list.py",
     "varRefreshCmd": "print(var_dic_list())"
    },
    "r": {
     "delete_cmd_postfix": ") ",
     "delete_cmd_prefix": "rm(",
     "library": "var_list.r",
     "varRefreshCmd": "cat(var_dic_list()) "
    }
   },
   "types_to_exclude": [
    "module",
    "function",
    "builtin_function_or_method",
    "instance",
    "_Feature"
   ],
   "window_display": false
  }
 },
 "nbformat": 4,
 "nbformat_minor": 2
}
