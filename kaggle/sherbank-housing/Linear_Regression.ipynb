{
 "cells": [
  {
   "cell_type": "code",
   "execution_count": 21,
   "metadata": {
    "collapsed": true
   },
   "outputs": [],
   "source": [
    "import numpy as np # linear algebra\n",
    "import pandas as pd # data processing, CSV file I/O (e.g. pd.read_csv)\n",
    "import matplotlib as mplt\n",
    "import matplotlib.pyplot as plt\n",
    "from sklearn.metrics import roc_auc_score\n",
    "from sklearn.model_selection import train_test_split\n",
    "from sklearn import linear_model\n",
    "from sklearn.metrics import mean_squared_error\n",
    "\n",
    "\n",
    "from sklearn.linear_model import LogisticRegression"
   ]
  },
  {
   "cell_type": "code",
   "execution_count": 153,
   "metadata": {
    "collapsed": false
   },
   "outputs": [
    {
     "data": {
      "text/plain": [
       "(30471, 292)"
      ]
     },
     "execution_count": 153,
     "metadata": {},
     "output_type": "execute_result"
    }
   ],
   "source": [
    "df = pd.read_csv(\"../data/sherbank-housing/train.csv\")\n",
    "df.shape"
   ]
  },
  {
   "cell_type": "code",
   "execution_count": 170,
   "metadata": {
    "collapsed": true
   },
   "outputs": [],
   "source": [
    "cols = [\"id\",\"life_sq\",\"full_sq\",\"build_year\",\"num_room\",\"timestamp\",\"price_doc\"]\n",
    "test_cols = [\"id\",\"life_sq\",\"full_sq\",\"build_year\",\"num_room\",\"timestamp\"]\n",
    "prediction_cols = [\"life_sq\",\"build_year\",\"num_room\",\"transaction_year\"]\n",
    "def columnExtractor(colnames,df):\n",
    "    df_features = df[colnames]\n",
    "    return df_features\n",
    "\n",
    "df_features = columnExtractor(cols,df)"
   ]
  },
  {
   "cell_type": "markdown",
   "metadata": {},
   "source": [
    "## Improving Features\n",
    "\n",
    "### Add missing Values\n",
    "- [Pandas link](http://pandas.pydata.org/pandas-docs/stable/missing_data.html)\n",
    "- [Sklearn Imputer with pipeline](http://scikit-learn.org/stable/auto_examples/missing_values.html)\n",
    "- [Checking nans SO](http://stackoverflow.com/questions/34779961/scikit-learn-error-in-fitting-model-input-contains-nan-infinity-or-a-value)\n",
    "- [Replacing missing values fillna pandas](http://stackoverflow.com/questions/29177498/python-pandas-replace-nan-in-one-column-with-value-from-corresponding-row-of-sec)"
   ]
  },
  {
   "cell_type": "code",
   "execution_count": 156,
   "metadata": {
    "collapsed": false
   },
   "outputs": [
    {
     "name": "stderr",
     "output_type": "stream",
     "text": [
      "C:\\ProgramData\\Anaconda3\\lib\\site-packages\\pandas\\core\\generic.py:3295: SettingWithCopyWarning: \n",
      "A value is trying to be set on a copy of a slice from a DataFrame\n",
      "\n",
      "See the caveats in the documentation: http://pandas.pydata.org/pandas-docs/stable/indexing.html#indexing-view-versus-copy\n",
      "  self._update_inplace(new_data)\n"
     ]
    }
   ],
   "source": [
    "def imputer(df_features):\n",
    "    df_features[\"life_sq\"].fillna(df_features[\"full_sq\"]-15,inplace=True)\n",
    "    df_features[\"num_room\"].fillna(df_features[\"life_sq\"]/14,inplace=True)\n",
    "    df_features[\"num_room\"].fillna(df_features[\"life_sq\"]/14,inplace=True)\n",
    "    df_features = df_features.fillna(df_features.median())\n",
    "    return df_features\n",
    "\n",
    "df_features = imputer(df_features)\n",
    "\n",
    "\n",
    "\n",
    "\n",
    "\n",
    "\n",
    "# df_features.mean()"
   ]
  },
  {
   "cell_type": "markdown",
   "metadata": {},
   "source": [
    "### Outlier Removal"
   ]
  },
  {
   "cell_type": "code",
   "execution_count": 167,
   "metadata": {
    "collapsed": true
   },
   "outputs": [],
   "source": [
    "def oulierRemover(df_features):\n",
    "    df_features[np.abs(df_features.life_sq-df_features.life_sq.mean())<=700]\n",
    "    return df_features\n",
    "\n",
    "## Below outlier remover only works on training set as it removes extreme values of the predicted variable\n",
    "def oulierRemover_train(df_features):\n",
    "    df_features[df_features.price_doc-df_features.price_doc.mean()<=(5*df_features.price_doc.std())]\n",
    "    return df_features\n",
    "\n",
    "df_features = oulierRemover(df_features)\n",
    "df_features = oulierRemover_train(df_features)\n",
    "# df_features[np.abs(df_features.life_sq-df_features.life_sq.mean())<=(6*df_features.life_sq.std())]\n",
    "\n",
    "# df_features[np.abs(df_features.price_doc-df_features.price_doc.mean())<=(5*df_features.price_doc.std())]\n",
    "\n"
   ]
  },
  {
   "cell_type": "markdown",
   "metadata": {},
   "source": [
    "### Adding new Features"
   ]
  },
  {
   "cell_type": "code",
   "execution_count": 158,
   "metadata": {
    "collapsed": true
   },
   "outputs": [],
   "source": [
    "def featureAdder(df_features):\n",
    "    df_features['date_column'] = pd.to_datetime(df_features['timestamp'])\n",
    "    df_features[\"transaction_year\"] = df_features['date_column'].map(lambda x: x.year)\n",
    "    return df_features\n",
    "\n",
    "df_features = featureAdder(df_features)"
   ]
  },
  {
   "cell_type": "markdown",
   "metadata": {},
   "source": [
    "### Feature Transformations"
   ]
  },
  {
   "cell_type": "code",
   "execution_count": 159,
   "metadata": {
    "collapsed": true
   },
   "outputs": [],
   "source": [
    "# df_features[\"life_sq\"] = np.log(df_features[\"life_sq\"])"
   ]
  },
  {
   "cell_type": "markdown",
   "metadata": {},
   "source": [
    "## Model Build and Test\n",
    "\n",
    "### Split train test"
   ]
  },
  {
   "cell_type": "code",
   "execution_count": 160,
   "metadata": {
    "collapsed": false
   },
   "outputs": [
    {
     "data": {
      "text/plain": [
       "False"
      ]
     },
     "execution_count": 160,
     "metadata": {},
     "output_type": "execute_result"
    }
   ],
   "source": [
    "X = df_features[prediction_cols].values\n",
    "y = df_features[\"price_doc\"].values\n",
    "\n",
    "\n",
    "X_train, X_test, y_train, y_test = train_test_split(X, y, test_size=0.1)\n",
    "\n",
    "np.isnan(X).any()"
   ]
  },
  {
   "cell_type": "markdown",
   "metadata": {},
   "source": [
    "### Build model and generate predictions on split test "
   ]
  },
  {
   "cell_type": "code",
   "execution_count": 161,
   "metadata": {
    "collapsed": false
   },
   "outputs": [],
   "source": [
    "\n",
    "\n",
    "# Create linear regression object\n",
    "regr = linear_model.LinearRegression(copy_X=True,n_jobs=2,normalize=True)\n",
    "\n",
    "# Train the model using the training sets\n",
    "regr.fit(X_train, y_train)\n",
    "y_pred = regr.predict(X_test)\n",
    "\n"
   ]
  },
  {
   "cell_type": "code",
   "execution_count": 162,
   "metadata": {
    "collapsed": false
   },
   "outputs": [
    {
     "data": {
      "text/plain": [
       "array([ 15.20805534,  15.53675385,  14.50865774, ...,  15.8949521 ,\n",
       "        15.93176607,  13.81551056])"
      ]
     },
     "execution_count": 162,
     "metadata": {},
     "output_type": "execute_result"
    }
   ],
   "source": [
    "eps = 1e-7\n",
    "np.isnan(y_test).any()\n",
    "np.any(np.absolute(y_pred) < eps)\n",
    "np.log(y_test)\n",
    "\n"
   ]
  },
  {
   "cell_type": "markdown",
   "metadata": {},
   "source": [
    "### Errors RMSE and RMSLE for train data"
   ]
  },
  {
   "cell_type": "code",
   "execution_count": 163,
   "metadata": {
    "collapsed": false
   },
   "outputs": [
    {
     "name": "stdout",
     "output_type": "stream",
     "text": [
      "RMSLE: 0.347\n",
      "RMSE: 4111452.168\n"
     ]
    }
   ],
   "source": [
    "def findRMSLE(y_true,y_pred):\n",
    "    return mean_squared_error(np.log(y_true), np.log(y_pred))\n",
    "\n",
    "print('RMSLE: %.3f' % (findRMSLE(y_test, y_pred)))\n",
    "print(\"RMSE: %.3f\" % mean_squared_error(y_test, y_pred)**0.5)"
   ]
  },
  {
   "cell_type": "markdown",
   "metadata": {},
   "source": [
    "## Using Model on Test Set to generate prediction csv"
   ]
  },
  {
   "cell_type": "code",
   "execution_count": 171,
   "metadata": {
    "collapsed": false
   },
   "outputs": [
    {
     "data": {
      "text/plain": [
       "(7662, 291)"
      ]
     },
     "execution_count": 171,
     "metadata": {},
     "output_type": "execute_result"
    }
   ],
   "source": [
    "df_test = pd.read_csv(\"../data/sherbank-housing/test.csv\")\n",
    "df_test.shape"
   ]
  },
  {
   "cell_type": "markdown",
   "metadata": {},
   "source": [
    "### Extracting features and applying same transformations that were done on training data"
   ]
  },
  {
   "cell_type": "code",
   "execution_count": 172,
   "metadata": {
    "collapsed": false
   },
   "outputs": [
    {
     "name": "stderr",
     "output_type": "stream",
     "text": [
      "C:\\ProgramData\\Anaconda3\\lib\\site-packages\\pandas\\core\\generic.py:3295: SettingWithCopyWarning: \n",
      "A value is trying to be set on a copy of a slice from a DataFrame\n",
      "\n",
      "See the caveats in the documentation: http://pandas.pydata.org/pandas-docs/stable/indexing.html#indexing-view-versus-copy\n",
      "  self._update_inplace(new_data)\n"
     ]
    }
   ],
   "source": [
    "df_features_test = columnExtractor(test_cols,df_test)\n",
    "df_features_test = imputer(df_features_test)\n",
    "df_features_test = oulierRemover(df_features_test)\n",
    "df_features_test = featureAdder(df_features_test)"
   ]
  },
  {
   "cell_type": "code",
   "execution_count": 173,
   "metadata": {
    "collapsed": false
   },
   "outputs": [
    {
     "data": {
      "text/html": [
       "<div>\n",
       "<table border=\"1\" class=\"dataframe\">\n",
       "  <thead>\n",
       "    <tr style=\"text-align: right;\">\n",
       "      <th></th>\n",
       "      <th>id</th>\n",
       "      <th>life_sq</th>\n",
       "      <th>full_sq</th>\n",
       "      <th>build_year</th>\n",
       "      <th>num_room</th>\n",
       "      <th>timestamp</th>\n",
       "      <th>date_column</th>\n",
       "      <th>transaction_year</th>\n",
       "    </tr>\n",
       "  </thead>\n",
       "  <tbody>\n",
       "    <tr>\n",
       "      <th>0</th>\n",
       "      <td>30474</td>\n",
       "      <td>20.7</td>\n",
       "      <td>39.0</td>\n",
       "      <td>1998.0</td>\n",
       "      <td>1</td>\n",
       "      <td>2015-07-01</td>\n",
       "      <td>2015-07-01</td>\n",
       "      <td>2015</td>\n",
       "    </tr>\n",
       "    <tr>\n",
       "      <th>1</th>\n",
       "      <td>30475</td>\n",
       "      <td>64.2</td>\n",
       "      <td>79.2</td>\n",
       "      <td>0.0</td>\n",
       "      <td>3</td>\n",
       "      <td>2015-07-01</td>\n",
       "      <td>2015-07-01</td>\n",
       "      <td>2015</td>\n",
       "    </tr>\n",
       "    <tr>\n",
       "      <th>2</th>\n",
       "      <td>30476</td>\n",
       "      <td>25.1</td>\n",
       "      <td>40.5</td>\n",
       "      <td>1960.0</td>\n",
       "      <td>2</td>\n",
       "      <td>2015-07-01</td>\n",
       "      <td>2015-07-01</td>\n",
       "      <td>2015</td>\n",
       "    </tr>\n",
       "    <tr>\n",
       "      <th>3</th>\n",
       "      <td>30477</td>\n",
       "      <td>36.0</td>\n",
       "      <td>62.8</td>\n",
       "      <td>2016.0</td>\n",
       "      <td>2</td>\n",
       "      <td>2015-07-01</td>\n",
       "      <td>2015-07-01</td>\n",
       "      <td>2015</td>\n",
       "    </tr>\n",
       "    <tr>\n",
       "      <th>4</th>\n",
       "      <td>30478</td>\n",
       "      <td>40.0</td>\n",
       "      <td>40.0</td>\n",
       "      <td>0.0</td>\n",
       "      <td>1</td>\n",
       "      <td>2015-07-01</td>\n",
       "      <td>2015-07-01</td>\n",
       "      <td>2015</td>\n",
       "    </tr>\n",
       "  </tbody>\n",
       "</table>\n",
       "</div>"
      ],
      "text/plain": [
       "      id  life_sq  full_sq  build_year  num_room   timestamp date_column  \\\n",
       "0  30474     20.7     39.0      1998.0         1  2015-07-01  2015-07-01   \n",
       "1  30475     64.2     79.2         0.0         3  2015-07-01  2015-07-01   \n",
       "2  30476     25.1     40.5      1960.0         2  2015-07-01  2015-07-01   \n",
       "3  30477     36.0     62.8      2016.0         2  2015-07-01  2015-07-01   \n",
       "4  30478     40.0     40.0         0.0         1  2015-07-01  2015-07-01   \n",
       "\n",
       "   transaction_year  \n",
       "0              2015  \n",
       "1              2015  \n",
       "2              2015  \n",
       "3              2015  \n",
       "4              2015  "
      ]
     },
     "execution_count": 173,
     "metadata": {},
     "output_type": "execute_result"
    }
   ],
   "source": [
    "df_features_test.head()"
   ]
  },
  {
   "cell_type": "code",
   "execution_count": 174,
   "metadata": {
    "collapsed": true
   },
   "outputs": [],
   "source": [
    "X_t = df_features_test[prediction_cols].values\n",
    "y_t = regr.predict(X_t)"
   ]
  },
  {
   "cell_type": "markdown",
   "metadata": {},
   "source": [
    "### Generate Predictions"
   ]
  },
  {
   "cell_type": "code",
   "execution_count": 175,
   "metadata": {
    "collapsed": false
   },
   "outputs": [
    {
     "name": "stdout",
     "output_type": "stream",
     "text": [
      "          price_doc\n",
      "30474  6.707694e+06\n",
      "30475  1.003415e+07\n",
      "30476  8.271053e+06\n",
      "30477  8.333934e+06\n",
      "30478  6.818592e+06\n",
      "(7662, 1)\n"
     ]
    }
   ],
   "source": [
    "ids =np.array(df_features_test[\"id\"]).astype(int)\n",
    "my_solution = pd.DataFrame(y_t, ids, columns = [\"price_doc\"])\n",
    "print(my_solution.head())\n",
    "print(my_solution.shape)\n"
   ]
  },
  {
   "cell_type": "markdown",
   "metadata": {},
   "source": [
    "### Save to CSV"
   ]
  },
  {
   "cell_type": "code",
   "execution_count": 178,
   "metadata": {
    "collapsed": true
   },
   "outputs": [],
   "source": [
    "my_solution.to_csv(\"../data/sherbank-housing/results/my_solution_one.csv\", index_label = [\"id\"])"
   ]
  },
  {
   "cell_type": "code",
   "execution_count": null,
   "metadata": {
    "collapsed": true
   },
   "outputs": [],
   "source": []
  }
 ],
 "metadata": {
  "kernelspec": {
   "display_name": "Python 3",
   "language": "python",
   "name": "python3"
  },
  "language_info": {
   "codemirror_mode": {
    "name": "ipython",
    "version": 3
   },
   "file_extension": ".py",
   "mimetype": "text/x-python",
   "name": "python",
   "nbconvert_exporter": "python",
   "pygments_lexer": "ipython3",
   "version": "3.6.0"
  }
 },
 "nbformat": 4,
 "nbformat_minor": 2
}
