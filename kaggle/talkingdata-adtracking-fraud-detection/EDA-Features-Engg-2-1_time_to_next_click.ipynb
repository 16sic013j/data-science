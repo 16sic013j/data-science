{
 "cells": [
  {
   "cell_type": "code",
   "execution_count": 1,
   "metadata": {
    "ExecuteTime": {
     "end_time": "2018-04-25T13:51:06.168790Z",
     "start_time": "2018-04-25T13:51:04.820772Z"
    }
   },
   "outputs": [],
   "source": [
    "import numpy as np # linear algebra\n",
    "import pandas as pd # data processing, CSV file I/O (e.g. pd.read_csv)\n",
    "import matplotlib as mplt\n",
    "import matplotlib.pyplot as plt\n",
    "from sklearn.model_selection import train_test_split\n",
    "from sklearn.metrics import mean_squared_error\n",
    "from IPython.core.interactiveshell import InteractiveShell\n",
    "from sklearn.ensemble import RandomForestRegressor\n",
    "from sklearn.metrics import explained_variance_score\n",
    "from sklearn.preprocessing import LabelEncoder\n",
    "from sklearn.metrics import confusion_matrix\n",
    "from sklearn.model_selection import GridSearchCV\n",
    "import matplotlib.dates as mdates\n",
    "%matplotlib inline\n",
    "import seaborn as sns\n",
    "import math\n",
    "import gc\n",
    "import ipaddress\n",
    "from urllib.parse import urlparse\n",
    "from tldextract import extract\n",
    "from sklearn.metrics import confusion_matrix\n",
    "from sklearn.preprocessing import StandardScaler\n",
    "from sklearn.neural_network import MLPClassifier\n",
    "\n",
    "from data_science_utils import dataframe as df_utils\n",
    "from data_science_utils import models as model_utils\n",
    "from data_science_utils.dataframe import column as column_utils\n",
    "\n",
    "\n",
    "from xgboost import XGBClassifier\n",
    "from sklearn.model_selection import train_test_split\n",
    "from sklearn.metrics import accuracy_score\n",
    "from sklearn.metrics import confusion_matrix,classification_report\n",
    "\n",
    "import lightgbm as lgb\n",
    "\n",
    "np.set_printoptions(threshold=np.nan)\n",
    "\n",
    "\n",
    "\n",
    "plt.rcParams[\"figure.figsize\"] = (24,4)\n",
    "\n",
    "from xgboost import XGBClassifier\n",
    "import xgboost as xgb\n",
    "from sklearn.metrics import accuracy_score\n",
    "import missingno as msno\n",
    "from sklearn.metrics import f1_score\n",
    "from sklearn.metrics import precision_score\n",
    "from sklearn.metrics import recall_score\n",
    "from sklearn.preprocessing import StandardScaler\n",
    "import matplotlib.pyplot as plt\n",
    "from mpl_toolkits.mplot3d import Axes3D\n",
    "from sklearn import datasets\n",
    "from sklearn.decomposition import PCA\n",
    "import datetime\n",
    "from scipy import signal\n",
    "import matplotlib.pyplot as plt\n",
    "from datetime import timedelta\n",
    "from sklearn import linear_model\n",
    "\n",
    "\n",
    "\n",
    "InteractiveShell.ast_node_interactivity = \"all\"\n",
    "pd.set_option('display.max_seq_items', None)\n",
    "pd.set_option('display.height', 1000)\n",
    "pd.set_option('display.max_rows', 500)\n",
    "pd.set_option('display.max_columns', 500)\n",
    "pd.set_option('display.width', 1000)\n",
    "import warnings\n",
    "warnings.filterwarnings('ignore')\n",
    "import dask.dataframe as dd"
   ]
  },
  {
   "cell_type": "code",
   "execution_count": 2,
   "metadata": {
    "ExecuteTime": {
     "end_time": "2018-04-25T13:51:39.787776Z",
     "start_time": "2018-04-25T13:51:06.170299Z"
    }
   },
   "outputs": [
    {
     "data": {
      "text/plain": [
       "217"
      ]
     },
     "execution_count": 2,
     "metadata": {},
     "output_type": "execute_result"
    }
   ],
   "source": [
    "df_train = dd.read_hdf(\"data/train_1.h5\",\"table\")\n",
    "df_train = dd.from_pandas(df_train.compute(),npartitions=64)\n",
    "gc.collect()\n"
   ]
  },
  {
   "cell_type": "code",
   "execution_count": null,
   "metadata": {
    "ExecuteTime": {
     "end_time": "2018-04-24T16:22:58.865797Z",
     "start_time": "2018-04-24T16:22:57.978282Z"
    }
   },
   "outputs": [],
   "source": []
  },
  {
   "cell_type": "code",
   "execution_count": 3,
   "metadata": {
    "ExecuteTime": {
     "end_time": "2018-04-25T13:51:39.798446Z",
     "start_time": "2018-04-25T13:51:39.788886Z"
    }
   },
   "outputs": [],
   "source": [
    "GROUP_BY_NEXT_CLICKS_v0 = [\n",
    "    \n",
    "    # V1\n",
    "    {'groupby': ['ip']}\n",
    "]\n",
    "\n",
    "GROUP_BY_NEXT_CLICKS_v1 = [\n",
    "    \n",
    "    # V1\n",
    "    {'groupby': ['ip']},\n",
    "    {'groupby': ['app']},\n",
    "    {'groupby': ['device']},\n",
    "    {'groupby': ['ip', 'app']},\n",
    "    {'groupby': ['ip', 'channel']},\n",
    "    {'groupby': ['ip', 'os']},\n",
    "    # V3\n",
    "    {'groupby': ['ip', 'app', 'device', 'os', 'channel']},\n",
    "    {'groupby': ['ip', 'os', 'device']},\n",
    "    {'groupby': ['ip', 'os', 'device', 'app']}\n",
    "]\n",
    "\n",
    "GROUP_BY_NEXT_CLICKS_v2 = [\n",
    "    \n",
    "    {'groupby': ['ip','hour']},\n",
    "    {'groupby': ['ip', 'app', 'device', 'os', 'channel','hour']},\n",
    "    {'groupby': ['ip', 'os', 'device','hour']},\n",
    "    {'groupby': ['ip', 'os', 'device', 'app','hour']},\n",
    "    {'groupby': ['ip', 'app','hour']},\n",
    "    {'groupby': ['ip', 'channel','hour']},\n",
    "    {'groupby': ['ip', 'os','hour']},\n",
    "    {'groupby': ['app', 'device', 'os', 'channel']},\n",
    "    {'groupby': ['app', 'device', 'os']},\n",
    "    {'groupby': ['app', 'device', 'os','hour']}\n",
    "]"
   ]
  },
  {
   "cell_type": "code",
   "execution_count": 4,
   "metadata": {
    "ExecuteTime": {
     "end_time": "2018-04-25T13:51:40.093133Z",
     "start_time": "2018-04-25T13:51:39.799543Z"
    }
   },
   "outputs": [
    {
     "data": {
      "text/html": [
       "<div>\n",
       "<style scoped>\n",
       "    .dataframe tbody tr th:only-of-type {\n",
       "        vertical-align: middle;\n",
       "    }\n",
       "\n",
       "    .dataframe tbody tr th {\n",
       "        vertical-align: top;\n",
       "    }\n",
       "\n",
       "    .dataframe thead th {\n",
       "        text-align: right;\n",
       "    }\n",
       "</style>\n",
       "<table border=\"1\" class=\"dataframe\">\n",
       "  <thead>\n",
       "    <tr style=\"text-align: right;\">\n",
       "      <th></th>\n",
       "      <th>A</th>\n",
       "      <th>B</th>\n",
       "      <th>la</th>\n",
       "      <th>lb</th>\n",
       "    </tr>\n",
       "  </thead>\n",
       "  <tbody>\n",
       "    <tr>\n",
       "      <th>0</th>\n",
       "      <td>1</td>\n",
       "      <td>1</td>\n",
       "      <td>NaN</td>\n",
       "      <td>4.0</td>\n",
       "    </tr>\n",
       "    <tr>\n",
       "      <th>1</th>\n",
       "      <td>1</td>\n",
       "      <td>5</td>\n",
       "      <td>4.0</td>\n",
       "      <td>3.0</td>\n",
       "    </tr>\n",
       "    <tr>\n",
       "      <th>2</th>\n",
       "      <td>1</td>\n",
       "      <td>7</td>\n",
       "      <td>2.0</td>\n",
       "      <td>2.0</td>\n",
       "    </tr>\n",
       "    <tr>\n",
       "      <th>3</th>\n",
       "      <td>2</td>\n",
       "      <td>12</td>\n",
       "      <td>NaN</td>\n",
       "      <td>7.0</td>\n",
       "    </tr>\n",
       "    <tr>\n",
       "      <th>4</th>\n",
       "      <td>2</td>\n",
       "      <td>19</td>\n",
       "      <td>7.0</td>\n",
       "      <td>4.0</td>\n",
       "    </tr>\n",
       "    <tr>\n",
       "      <th>5</th>\n",
       "      <td>2</td>\n",
       "      <td>20</td>\n",
       "      <td>1.0</td>\n",
       "      <td>1.0</td>\n",
       "    </tr>\n",
       "  </tbody>\n",
       "</table>\n",
       "</div>"
      ],
      "text/plain": [
       "   A   B   la   lb\n",
       "0  1   1  NaN  4.0\n",
       "1  1   5  4.0  3.0\n",
       "2  1   7  2.0  2.0\n",
       "3  2  12  NaN  7.0\n",
       "4  2  19  7.0  4.0\n",
       "5  2  20  1.0  1.0"
      ]
     },
     "execution_count": 4,
     "metadata": {},
     "output_type": "execute_result"
    }
   ],
   "source": [
    "# dask test example\n",
    "pdf = pd.DataFrame({\"A\":[1,1,1,2,2,2],\"B\":[1,5,7,12,19,20]})\n",
    "ddf = dd.from_pandas(pdf,npartitions=1)\n",
    "\n",
    "def differ(x):\n",
    "    return x.diff()\n",
    "\n",
    "def grad(x):\n",
    "    if(x.size<=1):\n",
    "        return pd.Series(0,index=x.index)\n",
    "    return pd.Series(np.gradient(x,axis=0),index=x.index)\n",
    "gp = ddf.groupby([\"A\"]).B\n",
    "a=gp.apply(differ).compute()\n",
    "b=gp.apply(grad).compute()\n",
    "\n",
    "\n",
    "\n",
    "ddf['la'] = a\n",
    "ddf['lb'] = b\n",
    "\n",
    "# ddf.assign(la=a).compute()\n",
    "ddf.head(10)"
   ]
  },
  {
   "cell_type": "code",
   "execution_count": 6,
   "metadata": {
    "ExecuteTime": {
     "end_time": "2018-04-25T13:52:20.258523Z",
     "start_time": "2018-04-25T13:52:20.228872Z"
    }
   },
   "outputs": [],
   "source": [
    "\n",
    "\n",
    "def add_time_to_next_click(GROUP_BY_NEXT_CLICKS,df):\n",
    "    gc.collect()\n",
    "    for spec in GROUP_BY_NEXT_CLICKS:\n",
    "        next_click = 'nc_{}'.format('_'.join(spec['groupby']))\n",
    "        grad_click = 'gc_{}'.format('_'.join(spec['groupby']))\n",
    "        all_features = spec['groupby'] + ['click_time']\n",
    "\n",
    "        print(f\"Grouping by {spec['groupby']}, and saving time to next click in: {next_click}\")\n",
    "        # group = df[all_features].groupby(spec['groupby']).click_time  \n",
    "        # gp = group.transform(lambda x: x.diff().shift(-1))\n",
    "        def differ(x):\n",
    "            return x.diff().shift(-1)\n",
    "        \n",
    "        def grad(x):\n",
    "            if(x.size<=1):\n",
    "                return pd.Series(np.nan,index=x.index)\n",
    "            return pd.Series(np.gradient(x,axis=0),index=x.index)\n",
    "        group = df.groupby(spec['groupby']).click_time\n",
    "        gp1 = group.apply(differ).compute()\n",
    "        gp2 = group.apply(grad).compute()\n",
    "        \n",
    "        df[next_click] = gp1\n",
    "        df[grad_click] = gp2\n",
    "        \n",
    "        gp=None\n",
    "        del gp\n",
    "        group = None\n",
    "        del group\n",
    "        gc.collect()\n",
    "    \n"
   ]
  },
  {
   "cell_type": "code",
   "execution_count": null,
   "metadata": {
    "ExecuteTime": {
     "start_time": "2018-04-25T13:52:27.561Z"
    }
   },
   "outputs": [
    {
     "name": "stdout",
     "output_type": "stream",
     "text": [
      "Grouping by ['ip'], and saving time to next click in: nc_ip\n"
     ]
    }
   ],
   "source": [
    "add_time_to_next_click(GROUP_BY_NEXT_CLICKS_v1,df_train)\n",
    "gc.collect()"
   ]
  },
  {
   "cell_type": "code",
   "execution_count": null,
   "metadata": {
    "ExecuteTime": {
     "start_time": "2018-04-25T13:52:28.918Z"
    }
   },
   "outputs": [],
   "source": [
    "add_time_to_next_click(GROUP_BY_NEXT_CLICKS_v2,df_train)\n",
    "gc.collect()"
   ]
  },
  {
   "cell_type": "code",
   "execution_count": null,
   "metadata": {
    "ExecuteTime": {
     "start_time": "2018-04-25T13:52:31.215Z"
    }
   },
   "outputs": [],
   "source": [
    "test_df = dd.from_pandas(df_train[df_train.ip==83230].compute(),npartitions=4)\n",
    "test_df.head(20)"
   ]
  },
  {
   "cell_type": "code",
   "execution_count": null,
   "metadata": {
    "ExecuteTime": {
     "start_time": "2018-04-25T13:52:33.938Z"
    }
   },
   "outputs": [],
   "source": [
    "gc.collect()\n",
    "df_train.to_hdf('data/train_2.h5',\"table\",mode='w')\n",
    "gc.collect()\n",
    "print(\"Train_2.h5 done\")\n",
    "df_utils.count_nulls(df_train)"
   ]
  },
  {
   "cell_type": "code",
   "execution_count": null,
   "metadata": {
    "ExecuteTime": {
     "start_time": "2018-04-25T13:52:34.449Z"
    }
   },
   "outputs": [],
   "source": [
    "df_train.head()\n",
    "df_train = None\n",
    "gc.collect()\n",
    "del df_train\n",
    "test_df = None\n",
    "del test_df\n",
    "gc.collect()"
   ]
  },
  {
   "cell_type": "code",
   "execution_count": null,
   "metadata": {
    "ExecuteTime": {
     "start_time": "2018-04-25T13:52:35.203Z"
    }
   },
   "outputs": [],
   "source": [
    "df_test = pd.read_hdf(\"data/test_1.h5\",\"table\")\n",
    "df_test = dd.from_pandas(df_test.compute(),npartitions=64)\n",
    "gc.collect()"
   ]
  },
  {
   "cell_type": "code",
   "execution_count": null,
   "metadata": {
    "ExecuteTime": {
     "start_time": "2018-04-25T13:52:51.300Z"
    }
   },
   "outputs": [],
   "source": [
    "add_time_to_next_click(GROUP_BY_NEXT_CLICKS_v1,df_test)\n",
    "gc.collect()"
   ]
  },
  {
   "cell_type": "code",
   "execution_count": null,
   "metadata": {
    "ExecuteTime": {
     "start_time": "2018-04-25T13:52:51.818Z"
    }
   },
   "outputs": [],
   "source": [
    "add_time_to_next_click(GROUP_BY_NEXT_CLICKS_v2,df_test)\n",
    "gc.collect()"
   ]
  },
  {
   "cell_type": "code",
   "execution_count": null,
   "metadata": {
    "ExecuteTime": {
     "start_time": "2018-04-25T13:52:53.774Z"
    }
   },
   "outputs": [],
   "source": [
    "gc.collect()\n",
    "df_test.to_hdf('data/test_2.h5',\"table\",mode='w')\n",
    "gc.collect()\n",
    "print(\"Test_2.h5 done\")"
   ]
  },
  {
   "cell_type": "code",
   "execution_count": null,
   "metadata": {
    "ExecuteTime": {
     "end_time": "2018-04-25T13:35:31.038679Z",
     "start_time": "2018-04-25T13:32:55.760Z"
    }
   },
   "outputs": [],
   "source": [
    "\n",
    "df_test = None\n",
    "gc.collect()\n",
    "del df_test\n",
    "gc.collect()\n"
   ]
  }
 ],
 "metadata": {
  "hide_input": false,
  "kernelspec": {
   "display_name": "Python 3",
   "language": "python",
   "name": "python3"
  },
  "language_info": {
   "codemirror_mode": {
    "name": "ipython",
    "version": 3
   },
   "file_extension": ".py",
   "mimetype": "text/x-python",
   "name": "python",
   "nbconvert_exporter": "python",
   "pygments_lexer": "ipython3",
   "version": "3.6.4"
  },
  "toc": {
   "base_numbering": 1,
   "nav_menu": {},
   "number_sections": true,
   "sideBar": true,
   "skip_h1_title": false,
   "title_cell": "Table of Contents",
   "title_sidebar": "Contents",
   "toc_cell": false,
   "toc_position": {},
   "toc_section_display": true,
   "toc_window_display": false
  }
 },
 "nbformat": 4,
 "nbformat_minor": 2
}
