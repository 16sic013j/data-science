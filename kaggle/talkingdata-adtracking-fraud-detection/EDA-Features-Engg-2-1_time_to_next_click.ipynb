{
 "cells": [
  {
   "cell_type": "code",
   "execution_count": 1,
   "metadata": {
    "ExecuteTime": {
     "end_time": "2018-04-24T16:22:46.386645Z",
     "start_time": "2018-04-24T16:22:45.068487Z"
    }
   },
   "outputs": [],
   "source": [
    "import numpy as np # linear algebra\n",
    "import pandas as pd # data processing, CSV file I/O (e.g. pd.read_csv)\n",
    "import matplotlib as mplt\n",
    "import matplotlib.pyplot as plt\n",
    "from sklearn.model_selection import train_test_split\n",
    "from sklearn.metrics import mean_squared_error\n",
    "from IPython.core.interactiveshell import InteractiveShell\n",
    "from sklearn.ensemble import RandomForestRegressor\n",
    "from sklearn.metrics import explained_variance_score\n",
    "from sklearn.preprocessing import LabelEncoder\n",
    "from sklearn.metrics import confusion_matrix\n",
    "from sklearn.model_selection import GridSearchCV\n",
    "import matplotlib.dates as mdates\n",
    "%matplotlib inline\n",
    "import seaborn as sns\n",
    "import math\n",
    "import gc\n",
    "import ipaddress\n",
    "from urllib.parse import urlparse\n",
    "from tldextract import extract\n",
    "from sklearn.metrics import confusion_matrix\n",
    "from sklearn.preprocessing import StandardScaler\n",
    "from sklearn.neural_network import MLPClassifier\n",
    "\n",
    "from data_science_utils import dataframe as df_utils\n",
    "from data_science_utils import models as model_utils\n",
    "from data_science_utils.dataframe import column as column_utils\n",
    "\n",
    "\n",
    "from xgboost import XGBClassifier\n",
    "from sklearn.model_selection import train_test_split\n",
    "from sklearn.metrics import accuracy_score\n",
    "from sklearn.metrics import confusion_matrix,classification_report\n",
    "\n",
    "import lightgbm as lgb\n",
    "\n",
    "np.set_printoptions(threshold=np.nan)\n",
    "\n",
    "\n",
    "\n",
    "plt.rcParams[\"figure.figsize\"] = (24,4)\n",
    "\n",
    "from xgboost import XGBClassifier\n",
    "import xgboost as xgb\n",
    "from sklearn.metrics import accuracy_score\n",
    "import missingno as msno\n",
    "from sklearn.metrics import f1_score\n",
    "from sklearn.metrics import precision_score\n",
    "from sklearn.metrics import recall_score\n",
    "from sklearn.preprocessing import StandardScaler\n",
    "import matplotlib.pyplot as plt\n",
    "from mpl_toolkits.mplot3d import Axes3D\n",
    "from sklearn import datasets\n",
    "from sklearn.decomposition import PCA\n",
    "import datetime\n",
    "from scipy import signal\n",
    "import matplotlib.pyplot as plt\n",
    "from datetime import timedelta\n",
    "from sklearn import linear_model\n",
    "\n",
    "\n",
    "\n",
    "InteractiveShell.ast_node_interactivity = \"all\"\n",
    "pd.set_option('display.max_seq_items', None)\n",
    "pd.set_option('display.height', 1000)\n",
    "pd.set_option('display.max_rows', 500)\n",
    "pd.set_option('display.max_columns', 500)\n",
    "pd.set_option('display.width', 1000)\n",
    "import warnings\n",
    "warnings.filterwarnings('ignore')\n",
    "import dask.dataframe as dd"
   ]
  },
  {
   "cell_type": "code",
   "execution_count": 2,
   "metadata": {
    "ExecuteTime": {
     "end_time": "2018-04-24T16:22:57.977194Z",
     "start_time": "2018-04-24T16:22:47.623786Z"
    }
   },
   "outputs": [
    {
     "data": {
      "text/plain": [
       "11"
      ]
     },
     "execution_count": 2,
     "metadata": {},
     "output_type": "execute_result"
    }
   ],
   "source": [
    "df_train = pd.read_hdf(\"data/train_1.h5\",\"table\")\n",
    "gc.collect()\n"
   ]
  },
  {
   "cell_type": "code",
   "execution_count": 3,
   "metadata": {
    "ExecuteTime": {
     "end_time": "2018-04-24T16:22:58.865797Z",
     "start_time": "2018-04-24T16:22:57.978282Z"
    }
   },
   "outputs": [],
   "source": [
    "df_test = pd.read_hdf(\"data/test_1.h5\",\"table\")"
   ]
  },
  {
   "cell_type": "code",
   "execution_count": 4,
   "metadata": {
    "ExecuteTime": {
     "end_time": "2018-04-24T16:22:58.880708Z",
     "start_time": "2018-04-24T16:22:58.867064Z"
    }
   },
   "outputs": [],
   "source": [
    "GROUP_BY_NEXT_CLICKS = [\n",
    "    \n",
    "    # V1\n",
    "    {'groupby': ['ip']},\n",
    "    {'groupby': ['app']},\n",
    "    {'groupby': ['device']},\n",
    "    {'groupby': ['ip', 'app']},\n",
    "    {'groupby': ['ip', 'channel']},\n",
    "    {'groupby': ['ip', 'os']},\n",
    "    \n",
    "    # V3\n",
    "    {'groupby': ['ip', 'app', 'device', 'os', 'channel']},\n",
    "    {'groupby': ['ip', 'os', 'device']},\n",
    "    {'groupby': ['ip', 'os', 'device', 'app']},\n",
    "    \n",
    "    {'groupby': ['ip','hour']},\n",
    "    {'groupby': ['ip', 'app', 'device', 'os', 'channel','hour']},\n",
    "    {'groupby': ['ip', 'os', 'device','hour']},\n",
    "    {'groupby': ['ip', 'os', 'device', 'app','hour']},\n",
    "    {'groupby': ['ip', 'app','hour']},\n",
    "    {'groupby': ['ip', 'channel','hour']},\n",
    "    {'groupby': ['ip', 'os','hour']},\n",
    "    \n",
    "    {'groupby': ['app', 'device', 'os', 'channel']},\n",
    "    {'groupby': ['app', 'device', 'os']},\n",
    "    \n",
    "    {'groupby': ['app', 'device', 'os','hour']},\n",
    "]"
   ]
  },
  {
   "cell_type": "code",
   "execution_count": 5,
   "metadata": {
    "ExecuteTime": {
     "end_time": "2018-04-24T16:23:34.657404Z",
     "start_time": "2018-04-24T16:23:34.629605Z"
    }
   },
   "outputs": [],
   "source": [
    "\n",
    "\n",
    "def add_time_to_next_click(GROUP_BY_NEXT_CLICKS):\n",
    "    gc.collect()\n",
    "    # Calculate the time to next click for each group\n",
    "    for spec in GROUP_BY_NEXT_CLICKS:\n",
    "\n",
    "        # Name of new feature\n",
    "        new_feature = '{}_nextClick'.format('_'.join(spec['groupby']))    \n",
    "\n",
    "        # Unique list of features to select\n",
    "        all_features = spec['groupby'] + ['click_time']\n",
    "\n",
    "        # Run calculation\n",
    "        print(f\">> Grouping by {spec['groupby']}, and saving time to next click in: {new_feature}\")\n",
    "        group = df_train[all_features].groupby(spec['groupby']).click_time  \n",
    "        gp = group.transform(lambda x: x.diff().shift(-1)).dt.seconds\n",
    "\n",
    "        df_train[new_feature] = gp\n",
    "        \n",
    "        gp=None\n",
    "        del gp\n",
    "        \n",
    "        group = df_test[all_features].groupby(spec['groupby']).click_time  \n",
    "        gp = group.transform(lambda x: x.diff().shift(-1)).dt.seconds\n",
    "\n",
    "        df_test[new_feature] = gp\n",
    "        \n",
    "        gp=None\n",
    "        del gp\n",
    "        group = None\n",
    "        del group\n",
    "        gc.collect()\n",
    "    \n"
   ]
  },
  {
   "cell_type": "code",
   "execution_count": null,
   "metadata": {
    "ExecuteTime": {
     "start_time": "2018-04-24T16:23:54.676Z"
    }
   },
   "outputs": [
    {
     "name": "stdout",
     "output_type": "stream",
     "text": [
      ">> Grouping by ['ip'], and saving time to next click in: ip_nextClick\n",
      ">> Grouping by ['app'], and saving time to next click in: app_nextClick\n",
      ">> Grouping by ['device'], and saving time to next click in: device_nextClick\n",
      ">> Grouping by ['ip', 'app'], and saving time to next click in: ip_app_nextClick\n",
      ">> Grouping by ['ip', 'channel'], and saving time to next click in: ip_channel_nextClick\n",
      ">> Grouping by ['ip', 'os'], and saving time to next click in: ip_os_nextClick\n",
      ">> Grouping by ['ip', 'app', 'device', 'os', 'channel'], and saving time to next click in: ip_app_device_os_channel_nextClick\n",
      ">> Grouping by ['ip', 'os', 'device'], and saving time to next click in: ip_os_device_nextClick\n",
      ">> Grouping by ['ip', 'os', 'device', 'app'], and saving time to next click in: ip_os_device_app_nextClick\n",
      ">> Grouping by ['ip', 'hour'], and saving time to next click in: ip_hour_nextClick\n",
      ">> Grouping by ['ip', 'app', 'device', 'os', 'channel', 'hour'], and saving time to next click in: ip_app_device_os_channel_hour_nextClick\n"
     ]
    }
   ],
   "source": [
    "add_time_to_next_click(GROUP_BY_NEXT_CLICKS)"
   ]
  },
  {
   "cell_type": "code",
   "execution_count": null,
   "metadata": {
    "ExecuteTime": {
     "start_time": "2018-04-24T16:24:33.400Z"
    }
   },
   "outputs": [],
   "source": [
    "gc.collect()\n",
    "df_test.to_hdf('data/test_2.h5',\"table\",mode='w')\n",
    "gc.collect()\n",
    "print(\"Test_2.h5 done\")"
   ]
  },
  {
   "cell_type": "code",
   "execution_count": null,
   "metadata": {
    "ExecuteTime": {
     "start_time": "2018-04-24T16:25:06.085Z"
    }
   },
   "outputs": [],
   "source": [
    "df_test.head()\n",
    "df_test = None\n",
    "gc.collect()\n",
    "del df_test\n",
    "gc.collect()\n",
    "df_train.head()"
   ]
  },
  {
   "cell_type": "code",
   "execution_count": null,
   "metadata": {
    "ExecuteTime": {
     "start_time": "2018-04-24T16:25:11.316Z"
    }
   },
   "outputs": [],
   "source": [
    "gc.collect()\n",
    "df_train.to_hdf('data/train_2.h5',\"table\",mode='w')\n",
    "gc.collect()\n",
    "print(\"Train_2.h5 done\")"
   ]
  },
  {
   "cell_type": "code",
   "execution_count": null,
   "metadata": {
    "ExecuteTime": {
     "start_time": "2018-04-24T16:25:13.350Z"
    }
   },
   "outputs": [],
   "source": [
    "df_utils.count_nulls(df_train)"
   ]
  },
  {
   "cell_type": "code",
   "execution_count": 122,
   "metadata": {
    "ExecuteTime": {
     "end_time": "2018-04-20T21:33:59.493241Z",
     "start_time": "2018-04-20T21:33:59.440411Z"
    }
   },
   "outputs": [
    {
     "data": {
      "text/plain": [
       "18"
      ]
     },
     "execution_count": 122,
     "metadata": {},
     "output_type": "execute_result"
    }
   ],
   "source": [
    "gc.collect()"
   ]
  },
  {
   "cell_type": "code",
   "execution_count": null,
   "metadata": {},
   "outputs": [],
   "source": []
  }
 ],
 "metadata": {
  "hide_input": false,
  "kernelspec": {
   "display_name": "Python 3",
   "language": "python",
   "name": "python3"
  },
  "language_info": {
   "codemirror_mode": {
    "name": "ipython",
    "version": 3
   },
   "file_extension": ".py",
   "mimetype": "text/x-python",
   "name": "python",
   "nbconvert_exporter": "python",
   "pygments_lexer": "ipython3",
   "version": "3.6.4"
  },
  "toc": {
   "base_numbering": 1,
   "nav_menu": {},
   "number_sections": true,
   "sideBar": true,
   "skip_h1_title": false,
   "title_cell": "Table of Contents",
   "title_sidebar": "Contents",
   "toc_cell": false,
   "toc_position": {},
   "toc_section_display": true,
   "toc_window_display": false
  }
 },
 "nbformat": 4,
 "nbformat_minor": 2
}
