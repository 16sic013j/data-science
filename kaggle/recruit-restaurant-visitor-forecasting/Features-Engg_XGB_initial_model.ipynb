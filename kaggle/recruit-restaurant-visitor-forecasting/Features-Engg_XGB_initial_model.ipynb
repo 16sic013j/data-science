{
 "cells": [
  {
   "cell_type": "code",
   "execution_count": 1,
   "metadata": {
    "ExecuteTime": {
     "end_time": "2017-12-19T19:21:33.834246Z",
     "start_time": "2017-12-19T19:21:32.329424Z"
    }
   },
   "outputs": [],
   "source": [
    "import numpy as np # linear algebra\n",
    "import pandas as pd # data processing, CSV file I/O (e.g. pd.read_csv)\n",
    "import matplotlib as mplt\n",
    "import matplotlib.pyplot as plt\n",
    "from sklearn.model_selection import train_test_split\n",
    "from sklearn.metrics import mean_squared_error\n",
    "from IPython.core.interactiveshell import InteractiveShell\n",
    "from sklearn.ensemble import RandomForestRegressor\n",
    "from sklearn.metrics import explained_variance_score\n",
    "from sklearn.preprocessing import LabelEncoder\n",
    "from sklearn.metrics import confusion_matrix\n",
    "from sklearn.model_selection import GridSearchCV\n",
    "%matplotlib inline\n",
    "import seaborn as sns\n",
    "import math\n",
    "import gc\n",
    "import ipaddress\n",
    "from urllib.parse import urlparse\n",
    "from tldextract import extract\n",
    "from sklearn.metrics import confusion_matrix\n",
    "\n",
    "import sys\n",
    "from pathlib import Path\n",
    "d = Path().resolve().parent.parent\n",
    "sys.path.insert(0, str(d))\n",
    "import util.utils as utils\n",
    "import util.plot_utils as plot_utils\n",
    "\n",
    "from xgboost import XGBClassifier\n",
    "from sklearn.model_selection import train_test_split\n",
    "from sklearn.metrics import accuracy_score\n",
    "import lightgbm as lgb\n",
    "\n",
    "np.set_printoptions(threshold=np.nan)\n",
    "\n",
    "from sklearn.linear_model import LinearRegression\n",
    "\n",
    "\n",
    "\n",
    "plt.rcParams[\"figure.figsize\"] = (12,4)\n",
    "\n",
    "from xgboost import XGBClassifier\n",
    "import xgboost as xgb\n",
    "from sklearn.metrics import accuracy_score\n",
    "from datetime import datetime\n",
    "\n",
    "\n",
    "InteractiveShell.ast_node_interactivity = \"all\""
   ]
  },
  {
   "cell_type": "markdown",
   "metadata": {
    "ExecuteTime": {
     "end_time": "2017-12-18T20:42:22.549055Z",
     "start_time": "2017-12-18T20:42:20.942842Z"
    },
    "collapsed": true
   },
   "source": [
    "### Features\n",
    "- dates\n",
    "    - dayofyear\n",
    "    - weekofyear\n",
    "    - dayofweek\n",
    "    - dayofmonth (salary credit effect)\n",
    "    - Holidays from date_info.csv\n",
    "- Visitors and reserve visitors\n",
    "- Take all hotels for model, even ones not in submmission file\n",
    "- Area by lat long\n",
    "- reserve visitors can be used by per restaurant per day to gain some kind of intuition\n",
    "- LabelEncode Store info"
   ]
  },
  {
   "cell_type": "code",
   "execution_count": 2,
   "metadata": {
    "ExecuteTime": {
     "end_time": "2017-12-19T19:21:34.106311Z",
     "start_time": "2017-12-19T19:21:33.836276Z"
    }
   },
   "outputs": [
    {
     "data": {
      "text/plain": [
       "LabelEncoder()"
      ]
     },
     "execution_count": 2,
     "metadata": {},
     "output_type": "execute_result"
    },
    {
     "data": {
      "text/plain": [
       "LabelEncoder()"
      ]
     },
     "execution_count": 2,
     "metadata": {},
     "output_type": "execute_result"
    },
    {
     "data": {
      "text/plain": [
       "LabelEncoder()"
      ]
     },
     "execution_count": 2,
     "metadata": {},
     "output_type": "execute_result"
    },
    {
     "data": {
      "text/plain": [
       "LabelEncoder()"
      ]
     },
     "execution_count": 2,
     "metadata": {},
     "output_type": "execute_result"
    }
   ],
   "source": [
    "\n",
    "def label_encode_field(df,field):\n",
    "    df[field] = df[field].fillna('-1')\n",
    "    encoded_df = df[field]\n",
    "    label_encoder = LabelEncoder()\n",
    "    encoder = label_encoder.fit(encoded_df.values)\n",
    "    \n",
    "    encoded_df=encoder.transform(df[field].fillna(\"-1\").values)\n",
    "    df[field+\"_encoded\"] = encoded_df\n",
    "    return encoder\n",
    "\n",
    "df_air_store_info = pd.read_csv(\"data/air_store_info.csv\")\n",
    "label_encode_field(df_air_store_info,\"air_genre_name\")\n",
    "label_encode_field(df_air_store_info,\"air_store_id\")\n",
    "label_encode_field(df_air_store_info,\"air_area_name\")\n",
    "df_air_store_info[\"air_lat_long\"]=df_air_store_info[\"latitude\"].astype(str)+\"_\"+df_air_store_info[\"longitude\"].astype(str)\n",
    "label_encode_field(df_air_store_info,\"air_lat_long\")\n",
    "df_hpg_store_info = pd.read_csv(\"data/hpg_store_info.csv\")\n",
    "df_store_id_relation = pd.read_csv(\"data/store_id_relation.csv\")\n",
    "df_air_visit_data = pd.read_csv(\"data/air_visit_data.csv\")\n",
    "df_date_info = pd.read_csv(\"data/date_info.csv\")\n",
    "df_date_info.drop(['day_of_week'], axis = 1, inplace = True)\n",
    "df_date_info[\"visit_date\"]=df_date_info[\"calendar_date\"]\n",
    "df_date_info.drop(['calendar_date'], axis = 1, inplace = True)"
   ]
  },
  {
   "cell_type": "code",
   "execution_count": 3,
   "metadata": {
    "ExecuteTime": {
     "end_time": "2017-12-19T19:22:41.361711Z",
     "start_time": "2017-12-19T19:21:34.108678Z"
    }
   },
   "outputs": [],
   "source": [
    "def add_dates(df,date_col,date_format=None):\n",
    "    timeseries = None\n",
    "    if(date_format is None):\n",
    "        timeseries = pd.to_datetime(df[date_col])\n",
    "    else:\n",
    "        timeseries = pd.to_datetime(df[date_col],format=date_format)\n",
    "    df[\"dayofyear\"] = timeseries.map(lambda x:x.dayofyear)\n",
    "    df[\"dayofweek\"] = timeseries.map(lambda x:x.dayofweek)\n",
    "    df[\"weekofyear\"] = timeseries.map(lambda x:x.weekofyear)\n",
    "    df.loc[df[\"weekofyear\"]==53,\"weekofyear\"] = 1\n",
    "    df[\"dayofmonth\"] = timeseries.map(lambda x:x.date().day)\n",
    "    df[\"visit_date\"] = timeseries.map(lambda x:str(x.date()))\n",
    "    df = pd.merge(df,df_date_info,on=\"visit_date\", how='left')\n",
    "    #df.join(df_date_info,on='visit_date',how='left')\n",
    "    return df\n",
    "    \n",
    "    \n",
    "\n",
    "df_hpg_reserve = pd.read_csv(\"data/hpg_reserve.csv\")\n",
    "\n",
    "df_air_reserve = pd.read_csv(\"data/air_reserve.csv\")\n",
    "\n",
    "df_air_reserve = pd.merge(df_air_reserve,df_air_store_info,on='air_store_id', how='left')\n",
    "df_air_reserve.drop(['reserve_datetime'], axis = 1, inplace = True)\n",
    "df_hpg_reserve = pd.merge(df_hpg_reserve,df_hpg_store_info,on='hpg_store_id', how='left')\n",
    "df_hpg_reserve.drop(['reserve_datetime'], axis = 1, inplace = True)\n",
    "\n",
    "df_air_reserve=add_dates(df_air_reserve,\"visit_datetime\")\n",
    "df_hpg_reserve=add_dates(df_hpg_reserve,\"visit_datetime\")\n",
    "\n"
   ]
  },
  {
   "cell_type": "code",
   "execution_count": 4,
   "metadata": {
    "ExecuteTime": {
     "end_time": "2017-12-19T19:22:48.899859Z",
     "start_time": "2017-12-19T19:22:41.363919Z"
    }
   },
   "outputs": [],
   "source": [
    "df_air_visit_data = pd.merge(df_air_visit_data,df_air_store_info,on='air_store_id', how='left')\n",
    "df_air_visit_data = add_dates(df_air_visit_data,\"visit_date\")"
   ]
  },
  {
   "cell_type": "code",
   "execution_count": 5,
   "metadata": {
    "ExecuteTime": {
     "end_time": "2017-12-19T19:22:50.003229Z",
     "start_time": "2017-12-19T19:22:48.901845Z"
    }
   },
   "outputs": [
    {
     "data": {
      "text/plain": [
       "32019"
      ]
     },
     "execution_count": 5,
     "metadata": {},
     "output_type": "execute_result"
    },
    {
     "data": {
      "text/plain": [
       "32019"
      ]
     },
     "execution_count": 5,
     "metadata": {},
     "output_type": "execute_result"
    },
    {
     "data": {
      "text/html": [
       "<div>\n",
       "<style scoped>\n",
       "    .dataframe tbody tr th:only-of-type {\n",
       "        vertical-align: middle;\n",
       "    }\n",
       "\n",
       "    .dataframe tbody tr th {\n",
       "        vertical-align: top;\n",
       "    }\n",
       "\n",
       "    .dataframe thead th {\n",
       "        text-align: right;\n",
       "    }\n",
       "</style>\n",
       "<table border=\"1\" class=\"dataframe\">\n",
       "  <thead>\n",
       "    <tr style=\"text-align: right;\">\n",
       "      <th></th>\n",
       "      <th>id</th>\n",
       "      <th>visitors</th>\n",
       "      <th>air_store_id</th>\n",
       "      <th>visit_date</th>\n",
       "      <th>dayofyear</th>\n",
       "      <th>dayofweek</th>\n",
       "      <th>weekofyear</th>\n",
       "      <th>dayofmonth</th>\n",
       "      <th>holiday_flg</th>\n",
       "      <th>air_genre_name</th>\n",
       "      <th>air_area_name</th>\n",
       "      <th>latitude</th>\n",
       "      <th>longitude</th>\n",
       "      <th>air_genre_name_encoded</th>\n",
       "      <th>air_store_id_encoded</th>\n",
       "      <th>air_area_name_encoded</th>\n",
       "      <th>air_lat_long</th>\n",
       "      <th>air_lat_long_encoded</th>\n",
       "    </tr>\n",
       "  </thead>\n",
       "  <tbody>\n",
       "    <tr>\n",
       "      <th>0</th>\n",
       "      <td>air_00a91d42b08b08d9_2017-04-23</td>\n",
       "      <td>0</td>\n",
       "      <td>air_00a91d42b08b08d9</td>\n",
       "      <td>2017-04-23</td>\n",
       "      <td>113</td>\n",
       "      <td>6</td>\n",
       "      <td>16</td>\n",
       "      <td>23</td>\n",
       "      <td>0</td>\n",
       "      <td>Italian/French</td>\n",
       "      <td>Tōkyō-to Chiyoda-ku Kudanminami</td>\n",
       "      <td>35.694003</td>\n",
       "      <td>139.753595</td>\n",
       "      <td>6</td>\n",
       "      <td>0</td>\n",
       "      <td>44</td>\n",
       "      <td>35.6940027_139.7535951</td>\n",
       "      <td>68</td>\n",
       "    </tr>\n",
       "    <tr>\n",
       "      <th>1</th>\n",
       "      <td>air_00a91d42b08b08d9_2017-04-24</td>\n",
       "      <td>0</td>\n",
       "      <td>air_00a91d42b08b08d9</td>\n",
       "      <td>2017-04-24</td>\n",
       "      <td>114</td>\n",
       "      <td>0</td>\n",
       "      <td>17</td>\n",
       "      <td>24</td>\n",
       "      <td>0</td>\n",
       "      <td>Italian/French</td>\n",
       "      <td>Tōkyō-to Chiyoda-ku Kudanminami</td>\n",
       "      <td>35.694003</td>\n",
       "      <td>139.753595</td>\n",
       "      <td>6</td>\n",
       "      <td>0</td>\n",
       "      <td>44</td>\n",
       "      <td>35.6940027_139.7535951</td>\n",
       "      <td>68</td>\n",
       "    </tr>\n",
       "    <tr>\n",
       "      <th>2</th>\n",
       "      <td>air_00a91d42b08b08d9_2017-04-25</td>\n",
       "      <td>0</td>\n",
       "      <td>air_00a91d42b08b08d9</td>\n",
       "      <td>2017-04-25</td>\n",
       "      <td>115</td>\n",
       "      <td>1</td>\n",
       "      <td>17</td>\n",
       "      <td>25</td>\n",
       "      <td>0</td>\n",
       "      <td>Italian/French</td>\n",
       "      <td>Tōkyō-to Chiyoda-ku Kudanminami</td>\n",
       "      <td>35.694003</td>\n",
       "      <td>139.753595</td>\n",
       "      <td>6</td>\n",
       "      <td>0</td>\n",
       "      <td>44</td>\n",
       "      <td>35.6940027_139.7535951</td>\n",
       "      <td>68</td>\n",
       "    </tr>\n",
       "    <tr>\n",
       "      <th>3</th>\n",
       "      <td>air_00a91d42b08b08d9_2017-04-26</td>\n",
       "      <td>0</td>\n",
       "      <td>air_00a91d42b08b08d9</td>\n",
       "      <td>2017-04-26</td>\n",
       "      <td>116</td>\n",
       "      <td>2</td>\n",
       "      <td>17</td>\n",
       "      <td>26</td>\n",
       "      <td>0</td>\n",
       "      <td>Italian/French</td>\n",
       "      <td>Tōkyō-to Chiyoda-ku Kudanminami</td>\n",
       "      <td>35.694003</td>\n",
       "      <td>139.753595</td>\n",
       "      <td>6</td>\n",
       "      <td>0</td>\n",
       "      <td>44</td>\n",
       "      <td>35.6940027_139.7535951</td>\n",
       "      <td>68</td>\n",
       "    </tr>\n",
       "    <tr>\n",
       "      <th>4</th>\n",
       "      <td>air_00a91d42b08b08d9_2017-04-27</td>\n",
       "      <td>0</td>\n",
       "      <td>air_00a91d42b08b08d9</td>\n",
       "      <td>2017-04-27</td>\n",
       "      <td>117</td>\n",
       "      <td>3</td>\n",
       "      <td>17</td>\n",
       "      <td>27</td>\n",
       "      <td>0</td>\n",
       "      <td>Italian/French</td>\n",
       "      <td>Tōkyō-to Chiyoda-ku Kudanminami</td>\n",
       "      <td>35.694003</td>\n",
       "      <td>139.753595</td>\n",
       "      <td>6</td>\n",
       "      <td>0</td>\n",
       "      <td>44</td>\n",
       "      <td>35.6940027_139.7535951</td>\n",
       "      <td>68</td>\n",
       "    </tr>\n",
       "  </tbody>\n",
       "</table>\n",
       "</div>"
      ],
      "text/plain": [
       "                                id  visitors          air_store_id  \\\n",
       "0  air_00a91d42b08b08d9_2017-04-23         0  air_00a91d42b08b08d9   \n",
       "1  air_00a91d42b08b08d9_2017-04-24         0  air_00a91d42b08b08d9   \n",
       "2  air_00a91d42b08b08d9_2017-04-25         0  air_00a91d42b08b08d9   \n",
       "3  air_00a91d42b08b08d9_2017-04-26         0  air_00a91d42b08b08d9   \n",
       "4  air_00a91d42b08b08d9_2017-04-27         0  air_00a91d42b08b08d9   \n",
       "\n",
       "   visit_date  dayofyear  dayofweek  weekofyear  dayofmonth  holiday_flg  \\\n",
       "0  2017-04-23        113          6          16          23            0   \n",
       "1  2017-04-24        114          0          17          24            0   \n",
       "2  2017-04-25        115          1          17          25            0   \n",
       "3  2017-04-26        116          2          17          26            0   \n",
       "4  2017-04-27        117          3          17          27            0   \n",
       "\n",
       "   air_genre_name                    air_area_name   latitude   longitude  \\\n",
       "0  Italian/French  Tōkyō-to Chiyoda-ku Kudanminami  35.694003  139.753595   \n",
       "1  Italian/French  Tōkyō-to Chiyoda-ku Kudanminami  35.694003  139.753595   \n",
       "2  Italian/French  Tōkyō-to Chiyoda-ku Kudanminami  35.694003  139.753595   \n",
       "3  Italian/French  Tōkyō-to Chiyoda-ku Kudanminami  35.694003  139.753595   \n",
       "4  Italian/French  Tōkyō-to Chiyoda-ku Kudanminami  35.694003  139.753595   \n",
       "\n",
       "   air_genre_name_encoded  air_store_id_encoded  air_area_name_encoded  \\\n",
       "0                       6                     0                     44   \n",
       "1                       6                     0                     44   \n",
       "2                       6                     0                     44   \n",
       "3                       6                     0                     44   \n",
       "4                       6                     0                     44   \n",
       "\n",
       "             air_lat_long  air_lat_long_encoded  \n",
       "0  35.6940027_139.7535951                    68  \n",
       "1  35.6940027_139.7535951                    68  \n",
       "2  35.6940027_139.7535951                    68  \n",
       "3  35.6940027_139.7535951                    68  \n",
       "4  35.6940027_139.7535951                    68  "
      ]
     },
     "execution_count": 5,
     "metadata": {},
     "output_type": "execute_result"
    }
   ],
   "source": [
    "sample_sub = pd.read_csv(\"data/sample_submission.csv\")\n",
    "len(sample_sub)\n",
    "\n",
    "pred_ids = sample_sub.id.map(lambda x:x[:-11])\n",
    "sample_sub[\"air_store_id\"] = pred_ids\n",
    "pred_dates = sample_sub.id.map(lambda x:x[-10:])\n",
    "sample_sub[\"visit_date\"] = pred_dates\n",
    "sample_sub = add_dates(sample_sub,\"visit_date\")\n",
    "sample_sub = pd.merge(sample_sub,df_air_store_info,on='air_store_id', how='left')\n",
    "len(sample_sub)\n",
    "sample_sub.head()\n"
   ]
  },
  {
   "cell_type": "code",
   "execution_count": 6,
   "metadata": {
    "ExecuteTime": {
     "end_time": "2017-12-19T19:22:50.071736Z",
     "start_time": "2017-12-19T19:22:50.005371Z"
    }
   },
   "outputs": [
    {
     "data": {
      "text/plain": [
       "Index(['air_store_id', 'visit_date', 'visitors', 'air_genre_name',\n",
       "       'air_area_name', 'latitude', 'longitude', 'air_genre_name_encoded',\n",
       "       'air_store_id_encoded', 'air_area_name_encoded', 'air_lat_long',\n",
       "       'air_lat_long_encoded', 'dayofyear', 'dayofweek', 'weekofyear',\n",
       "       'dayofmonth', 'holiday_flg'],\n",
       "      dtype='object')"
      ]
     },
     "execution_count": 6,
     "metadata": {},
     "output_type": "execute_result"
    },
    {
     "data": {
      "text/plain": [
       "air_genre_name_encoded    int64\n",
       "air_store_id_encoded      int64\n",
       "air_area_name_encoded     int64\n",
       "air_lat_long_encoded      int64\n",
       "dayofyear                 int64\n",
       "dayofweek                 int64\n",
       "weekofyear                int64\n",
       "dayofmonth                int64\n",
       "holiday_flg               int64\n",
       "dtype: object"
      ]
     },
     "execution_count": 6,
     "metadata": {},
     "output_type": "execute_result"
    }
   ],
   "source": [
    "df_air_visit_data.columns\n",
    "output_column=[\"visitors\"]\n",
    "features = [\"air_genre_name_encoded\",\"air_store_id_encoded\", 'air_area_name_encoded','air_lat_long_encoded', 'dayofyear', 'dayofweek', 'weekofyear',\n",
    "       'dayofmonth', 'holiday_flg']\n",
    "df_air_visit_data[features].dtypes"
   ]
  },
  {
   "cell_type": "code",
   "execution_count": 32,
   "metadata": {
    "ExecuteTime": {
     "end_time": "2017-12-19T19:28:05.826558Z",
     "start_time": "2017-12-19T19:27:37.587238Z"
    }
   },
   "outputs": [
    {
     "data": {
      "text/plain": [
       "7808"
      ]
     },
     "execution_count": 32,
     "metadata": {},
     "output_type": "execute_result"
    },
    {
     "data": {
      "text/plain": [
       "XGBRegressor(base_score=0.5, booster='gbtree', colsample_bylevel=1,\n",
       "       colsample_bytree=0.8, gamma=0, learning_rate=0.4, max_delta_step=0,\n",
       "       max_depth=8, min_child_weight=1, missing=None, n_estimators=400,\n",
       "       n_jobs=4, nthread=None, objective='reg:linear', random_state=0,\n",
       "       reg_alpha=0, reg_lambda=1, scale_pos_weight=1, seed=None,\n",
       "       silent=True, subsample=1)"
      ]
     },
     "execution_count": 32,
     "metadata": {},
     "output_type": "execute_result"
    }
   ],
   "source": [
    "X = df_air_visit_data[features].values\n",
    "y = df_air_visit_data[output_column]\n",
    "X_pred = sample_sub[features].values\n",
    "\n",
    "gc.collect()\n",
    "xgr=xgb.XGBRegressor(n_estimators=400, learning_rate=0.4, gamma=0,\n",
    "                           colsample_bytree=0.8, max_depth=8,n_jobs=4)\n",
    "xgr.fit(X,y)\n",
    "\n",
    "def xgr_predict(X):\n",
    "    pred=xgr.predict(X)\n",
    "    pred[pred<=0]=1\n",
    "    return pred"
   ]
  },
  {
   "cell_type": "code",
   "execution_count": 8,
   "metadata": {
    "ExecuteTime": {
     "end_time": "2017-12-19T19:22:57.785846Z",
     "start_time": "2017-12-19T19:22:57.686292Z"
    }
   },
   "outputs": [
    {
     "name": "stderr",
     "output_type": "stream",
     "text": [
      "/Users/ahemf/anaconda3/lib/python3.6/site-packages/scipy/linalg/basic.py:1226: RuntimeWarning: internal gelsd driver lwork query error, required iwork dimension not returned. This is likely the result of LAPACK bug 0038, fixed in LAPACK 3.2.2 (released July 21, 2010). Falling back to 'gelss' driver.\n",
      "  warnings.warn(mesg, RuntimeWarning)\n"
     ]
    },
    {
     "data": {
      "text/plain": [
       "LinearRegression(copy_X=True, fit_intercept=True, n_jobs=4, normalize=True)"
      ]
     },
     "execution_count": 8,
     "metadata": {},
     "output_type": "execute_result"
    }
   ],
   "source": [
    "lr=LinearRegression(normalize=True,n_jobs=4)\n",
    "lr.fit(X,y)\n",
    "def lr_predict(X):\n",
    "    pred=lr.predict(X)\n",
    "    pred[pred<=0]=1\n",
    "    return pred\n",
    "    \n",
    "\n",
    "    "
   ]
  },
  {
   "cell_type": "code",
   "execution_count": null,
   "metadata": {
    "ExecuteTime": {
     "end_time": "2017-12-18T16:54:36.716212Z",
     "start_time": "2017-12-18T16:54:36.692620Z"
    }
   },
   "outputs": [],
   "source": []
  },
  {
   "cell_type": "code",
   "execution_count": 33,
   "metadata": {
    "ExecuteTime": {
     "end_time": "2017-12-19T19:28:08.977277Z",
     "start_time": "2017-12-19T19:28:05.829822Z"
    }
   },
   "outputs": [
    {
     "data": {
      "text/plain": [
       "0.07802537852290678"
      ]
     },
     "execution_count": 33,
     "metadata": {},
     "output_type": "execute_result"
    },
    {
     "data": {
      "text/plain": [
       "0.53777418263609456"
      ]
     },
     "execution_count": 33,
     "metadata": {},
     "output_type": "execute_result"
    }
   ],
   "source": [
    "df_air_mean_visits = df_air_visit_data.groupby([\"air_store_id\"],as_index=False).mean()\n",
    "\n",
    "y_preds = xgr_predict(X_pred)\n",
    "def loss(Y,A):\n",
    "    length = len(Y)\n",
    "    return np.sqrt(np.sum(np.square(np.log(Y) - np.log(A)))/length)\n",
    "loss(df_air_visit_data[\"visitors\"],df_air_mean_visits[\"visitors\"])\n",
    "loss(df_air_visit_data[\"visitors\"],xgr_predict(X))\n",
    "# loss(df_air_visit_data[\"visitors\"],lr_predict(X))\n"
   ]
  },
  {
   "cell_type": "code",
   "execution_count": 34,
   "metadata": {
    "ExecuteTime": {
     "end_time": "2017-12-19T19:28:08.984969Z",
     "start_time": "2017-12-19T19:28:08.979966Z"
    }
   },
   "outputs": [
    {
     "data": {
      "text/plain": [
       "32019"
      ]
     },
     "execution_count": 34,
     "metadata": {},
     "output_type": "execute_result"
    }
   ],
   "source": [
    "len(y_preds)\n"
   ]
  },
  {
   "cell_type": "code",
   "execution_count": null,
   "metadata": {
    "ExecuteTime": {
     "end_time": "2017-12-18T17:29:33.905955Z",
     "start_time": "2017-12-18T17:29:33.886277Z"
    }
   },
   "outputs": [],
   "source": []
  },
  {
   "cell_type": "code",
   "execution_count": null,
   "metadata": {
    "ExecuteTime": {
     "end_time": "2017-12-18T17:35:12.575634Z",
     "start_time": "2017-12-18T17:34:57.527388Z"
    },
    "collapsed": true
   },
   "outputs": [],
   "source": []
  },
  {
   "cell_type": "code",
   "execution_count": 35,
   "metadata": {
    "ExecuteTime": {
     "end_time": "2017-12-19T19:28:08.991673Z",
     "start_time": "2017-12-19T19:28:08.987445Z"
    },
    "collapsed": true
   },
   "outputs": [],
   "source": [
    "sample_sub[\"visitors\"] = y_preds"
   ]
  },
  {
   "cell_type": "code",
   "execution_count": 36,
   "metadata": {
    "ExecuteTime": {
     "end_time": "2017-12-19T19:28:09.109247Z",
     "start_time": "2017-12-19T19:28:08.995041Z"
    },
    "collapsed": true
   },
   "outputs": [],
   "source": [
    "sample_sub.to_csv(\"results/Features-Engg_XGB_initial_model_1.csv\",index=False,columns=[\"id\",\"visitors\"])"
   ]
  },
  {
   "cell_type": "code",
   "execution_count": 37,
   "metadata": {
    "ExecuteTime": {
     "end_time": "2017-12-19T19:28:09.814731Z",
     "start_time": "2017-12-19T19:28:09.112951Z"
    }
   },
   "outputs": [
    {
     "data": {
      "image/png": "[encoded data removed]",
      "text/plain": [
       "<matplotlib.figure.Figure at 0x117e2d358>"
      ]
     },
     "metadata": {},
     "output_type": "display_data"
    },
    {
     "data": {
      "text/html": [
       "<div>\n",
       "<style scoped>\n",
       "    .dataframe tbody tr th:only-of-type {\n",
       "        vertical-align: middle;\n",
       "    }\n",
       "\n",
       "    .dataframe tbody tr th {\n",
       "        vertical-align: top;\n",
       "    }\n",
       "\n",
       "    .dataframe thead th {\n",
       "        text-align: right;\n",
       "    }\n",
       "</style>\n",
       "<table border=\"1\" class=\"dataframe\">\n",
       "  <thead>\n",
       "    <tr style=\"text-align: right;\">\n",
       "      <th></th>\n",
       "      <th>feature</th>\n",
       "      <th>importance</th>\n",
       "    </tr>\n",
       "  </thead>\n",
       "  <tbody>\n",
       "    <tr>\n",
       "      <th>4</th>\n",
       "      <td>dayofyear</td>\n",
       "      <td>24.777292</td>\n",
       "    </tr>\n",
       "    <tr>\n",
       "      <th>1</th>\n",
       "      <td>air_store_id_encoded</td>\n",
       "      <td>21.210457</td>\n",
       "    </tr>\n",
       "    <tr>\n",
       "      <th>5</th>\n",
       "      <td>dayofweek</td>\n",
       "      <td>10.742595</td>\n",
       "    </tr>\n",
       "    <tr>\n",
       "      <th>7</th>\n",
       "      <td>dayofmonth</td>\n",
       "      <td>10.556712</td>\n",
       "    </tr>\n",
       "    <tr>\n",
       "      <th>0</th>\n",
       "      <td>air_genre_name_encoded</td>\n",
       "      <td>9.059132</td>\n",
       "    </tr>\n",
       "    <tr>\n",
       "      <th>2</th>\n",
       "      <td>air_area_name_encoded</td>\n",
       "      <td>8.728285</td>\n",
       "    </tr>\n",
       "    <tr>\n",
       "      <th>3</th>\n",
       "      <td>air_lat_long_encoded</td>\n",
       "      <td>6.973509</td>\n",
       "    </tr>\n",
       "    <tr>\n",
       "      <th>6</th>\n",
       "      <td>weekofyear</td>\n",
       "      <td>6.358577</td>\n",
       "    </tr>\n",
       "    <tr>\n",
       "      <th>8</th>\n",
       "      <td>holiday_flg</td>\n",
       "      <td>1.593444</td>\n",
       "    </tr>\n",
       "  </tbody>\n",
       "</table>\n",
       "</div>"
      ],
      "text/plain": [
       "                  feature  importance\n",
       "4               dayofyear   24.777292\n",
       "1    air_store_id_encoded   21.210457\n",
       "5               dayofweek   10.742595\n",
       "7              dayofmonth   10.556712\n",
       "0  air_genre_name_encoded    9.059132\n",
       "2   air_area_name_encoded    8.728285\n",
       "3    air_lat_long_encoded    6.973509\n",
       "6              weekofyear    6.358577\n",
       "8             holiday_flg    1.593444"
      ]
     },
     "execution_count": 37,
     "metadata": {},
     "output_type": "execute_result"
    }
   ],
   "source": [
    "def plot_importance(model,df,features):\n",
    "    from xgboost import plot_importance\n",
    "    plot_importance(model)\n",
    "    plt.show()\n",
    "    fi=model.feature_importances_\n",
    "\n",
    "    fn=df[features].columns.values\n",
    "\n",
    "    df_i=pd.DataFrame({\"feature\":fn,\"importance\":fi})\n",
    "    df_i[\"importance\"] = df_i[\"importance\"]*100\n",
    "    return df_i.sort_values(\"importance\",ascending=False)\n",
    "\n",
    "plot_importance(xgr,df_air_visit_data,features)"
   ]
  },
  {
   "cell_type": "code",
   "execution_count": null,
   "metadata": {
    "collapsed": true
   },
   "outputs": [],
   "source": []
  },
  {
   "cell_type": "code",
   "execution_count": null,
   "metadata": {
    "collapsed": true
   },
   "outputs": [],
   "source": []
  }
 ],
 "metadata": {
  "kernelspec": {
   "display_name": "Python 3",
   "language": "python",
   "name": "python3"
  },
  "language_info": {
   "codemirror_mode": {
    "name": "ipython",
    "version": 3
   },
   "file_extension": ".py",
   "mimetype": "text/x-python",
   "name": "python",
   "nbconvert_exporter": "python",
   "pygments_lexer": "ipython3",
   "version": "3.6.2"
  },
  "toc": {
   "nav_menu": {},
   "number_sections": true,
   "sideBar": true,
   "skip_h1_title": false,
   "toc_cell": false,
   "toc_position": {},
   "toc_section_display": "block",
   "toc_window_display": false
  }
 },
 "nbformat": 4,
 "nbformat_minor": 2
}
